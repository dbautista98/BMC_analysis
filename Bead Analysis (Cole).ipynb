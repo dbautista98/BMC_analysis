{
 "cells": [
  {
   "cell_type": "code",
   "execution_count": 3,
   "id": "08ee9983",
   "metadata": {},
   "outputs": [],
   "source": [
    "import glob\n",
    "import pims\n",
    "import trackpy as tp\n",
    "import numpy as np\n",
    "import pandas as pd\n",
    "import matplotlib.pyplot as plt\n",
    "import astropy.constants as c\n",
    "import astropy.units as u\n",
    "import bmc"
   ]
  },
  {
   "cell_type": "code",
   "execution_count": 4,
   "id": "bea47064",
   "metadata": {},
   "outputs": [],
   "source": [
    "def bead_path(viscosity, solute, size, magnification):\n",
    "    path = \"../data/beads/%s_visc_%s_%s_um-%s*\"%(viscosity, solute, size, magnification)\n",
    "    return glob.glob(path)"
   ]
  },
  {
   "cell_type": "code",
   "execution_count": 13,
   "id": "ad6b2da1",
   "metadata": {},
   "outputs": [],
   "source": [
    "# um_per_px for each zoom\n",
    "x10 = 9.51/13\n",
    "x20 = 9.51/24\n",
    "x40 = 9.51/57\n",
    "fps = 30"
   ]
  },
  {
   "cell_type": "markdown",
   "id": "633c1043",
   "metadata": {},
   "source": [
    "# Test #1: 1.66 visc, 0.4 $ \\mu m$ size, PVP solution "
   ]
  },
  {
   "cell_type": "code",
   "execution_count": 6,
   "id": "cd80f8cf",
   "metadata": {},
   "outputs": [
    {
     "name": "stdout",
     "output_type": "stream",
     "text": [
      "Frame 245: 23 trajectories present.\n"
     ]
    },
    {
     "data": {
      "text/plain": [
       "0.4226818304530578"
      ]
     },
     "execution_count": 6,
     "metadata": {},
     "output_type": "execute_result"
    }
   ],
   "source": [
    "path1 = bead_path(\"1.66\", \"PVP\", \"0.4\", \"40x\")[0] + \"/*.bmp\"\n",
    "obs1 = experiment(path1, 11, 500, 3, x40)\n",
    "obs1"
   ]
  },
  {
   "cell_type": "code",
   "execution_count": 7,
   "id": "70f055a7",
   "metadata": {},
   "outputs": [
    {
     "data": {
      "text/plain": [
       "0.646415402774001"
      ]
     },
     "execution_count": 7,
     "metadata": {},
     "output_type": "execute_result"
    }
   ],
   "source": [
    "exp1 = bmc.theory_D(0.4, 1.66, 293).value\n",
    "exp1"
   ]
  },
  {
   "cell_type": "code",
   "execution_count": 131,
   "id": "d9b74362",
   "metadata": {},
   "outputs": [
    {
     "name": "stdout",
     "output_type": "stream",
     "text": [
      "Frame 245: 23 trajectories present.\n",
      "82.88188566625836\n",
      "199.8704757419859\n",
      "212.22594194993053\n",
      "226.7523656243202\n",
      "230.14313490978424\n",
      "207.2556035491434\n",
      "234.8272360919964\n",
      "210.27891757414653\n",
      "207.31672508730412\n",
      "232.6547926971748\n",
      "250.5329559060927\n",
      "86.0544086198738\n",
      "78.16998139488281\n",
      "257.98242970827175\n",
      "76.36794625714512\n",
      "216.0258391548975\n",
      "210.11031231593591\n",
      "209.07909256519955\n",
      "192.9033950870851\n",
      "206.36234884363836\n",
      "218.85820252927874\n",
      "298.4483639925044\n",
      "219.702384784218\n",
      "248.442254590021\n",
      "236.3178543144902\n",
      "187.21836839177283\n",
      "241.70228169153972\n",
      "79.4864027700067\n",
      "200.5763757870751\n",
      "222.75531446057536\n",
      "231.47528282678925\n",
      "215.9577804391787\n",
      "268.52929681100517\n",
      "230.87772346202124\n",
      "202.1275071283107\n",
      "207.11284727167165\n",
      "197.61334837900114\n"
     ]
    },
    {
     "data": {
      "text/plain": [
       "(array([ 5.,  0.,  0.,  0.,  1., 10., 12.,  6.,  2.,  1.]),\n",
       " array([ 76.36794626,  98.57598803, 120.7840298 , 142.99207158,\n",
       "        165.20011335, 187.40815512, 209.6161969 , 231.82423867,\n",
       "        254.03228045, 276.24032222, 298.44836399]),\n",
       " <BarContainer object of 10 artists>)"
      ]
     },
     "execution_count": 131,
     "metadata": {},
     "output_type": "execute_result"
    },
    {
     "data": {
      "image/png": "[encoded data removed]",
      "text/plain": [
       "<Figure size 432x288 with 1 Axes>"
      ]
     },
     "metadata": {
      "needs_background": "light"
     },
     "output_type": "display_data"
    }
   ],
   "source": [
    "velo_hist(path1, 11, 500, 3, x40)"
   ]
  },
  {
   "cell_type": "code",
   "execution_count": 27,
   "id": "8795c525",
   "metadata": {},
   "outputs": [
    {
     "data": {
      "text/plain": [
       "(array([3., 2., 3., 4., 3., 1., 7., 2., 1., 5., 1., 0., 1., 2., 1.]),\n",
       " array([ 89.26091682,  91.60623233,  93.95154784,  96.29686336,\n",
       "         98.64217887, 100.98749438, 103.33280989, 105.6781254 ,\n",
       "        108.02344092, 110.36875643, 112.71407194, 115.05938745,\n",
       "        117.40470296, 119.75001848, 122.09533399, 124.4406495 ]),\n",
       " <BarContainer object of 15 artists>)"
      ]
     },
     "execution_count": 27,
     "metadata": {},
     "output_type": "execute_result"
    },
    {
     "data": {
      "image/png": "[encoded data removed]",
      "text/plain": [
       "<Figure size 432x288 with 1 Axes>"
      ]
     },
     "metadata": {
      "needs_background": "light"
     },
     "output_type": "display_data"
    }
   ],
   "source": [
    "plt.hist(velos1, bins=15)"
   ]
  },
  {
   "cell_type": "code",
   "execution_count": 109,
   "id": "643c7708",
   "metadata": {},
   "outputs": [],
   "source": [
    "def experiment(filepath, diameter, minmass, maxsize, um_per_px):\n",
    "    annotation = bmc.annotate(filepath, diameter=diameter, minmass=minmass, maxsize=maxsize, show=False, crop=((0,0), (0,0)))\n",
    "    tracker = bmc.get_trajectories(annotation, search_range=10, diameter=diameter, minmass=minmass, maxsize=maxsize, show=False, clip_stubs=50)\n",
    "    clear = bmc.clear_drift(tracker, show=False, correct=True)\n",
    "    diff_coeff = bmc.diffusion_coeff(clear, um_per_px, 30, show=False)\n",
    "    return diff_coeff\n",
    "\n",
    "def all_velocity(t, obj):\n",
    "    all_vel = np.array([])\n",
    "    for i in np.unique(t[\"particle\"]):\n",
    "        mean_v = np.mean(bmc.particle_velocity(t, i, obj, 30)[0]) #np.mean(bmc.particle_velocity(t, i, obj, fps)[0])\n",
    "        print(mean_v)\n",
    "        all_vel = np.append(all_vel, mean_v)\n",
    "    return all_vel\n",
    "\n",
    "def velo_hist(filepath, diameter, minmass, maxsize, um_per_px):\n",
    "    annotation = bmc.annotate(filepath, diameter=diameter, minmass=minmass, maxsize=maxsize, show=False, crop=((0,0), (0,0)))\n",
    "    tracker = bmc.get_trajectories(annotation, search_range=10, diameter=diameter, minmass=minmass, maxsize=maxsize, show=False, clip_stubs=50)\n",
    "    clear = bmc.clear_drift(tracker, show=False, correct=True)\n",
    "    velos = all_velocity(clear, um_per_px)\n",
    "    return plt.hist(velos)"
   ]
  },
  {
   "cell_type": "markdown",
   "id": "6236812f",
   "metadata": {},
   "source": [
    "# Test #2: 1.66 visc, 2.03 $ \\mu m $ size, PVP solution"
   ]
  },
  {
   "cell_type": "code",
   "execution_count": 99,
   "id": "bcd7a6d3",
   "metadata": {},
   "outputs": [
    {
     "name": "stdout",
     "output_type": "stream",
     "text": [
      "Frame 460: 30 trajectories present.\n"
     ]
    },
    {
     "data": {
      "text/plain": [
       "0.12323353544174802"
      ]
     },
     "execution_count": 99,
     "metadata": {},
     "output_type": "execute_result"
    }
   ],
   "source": [
    "path2 = bead_path(\"1.66\", \"PVP\", \"2.03\", \"20x\")[0]+\"/*.bmp\"\n",
    "obs2 = experiment(path2, 5, 50, 3, x20)\n",
    "obs2"
   ]
  },
  {
   "cell_type": "code",
   "execution_count": 100,
   "id": "9dae2109",
   "metadata": {},
   "outputs": [
    {
     "data": {
      "text/plain": [
       "0.12737249315743862"
      ]
     },
     "execution_count": 100,
     "metadata": {},
     "output_type": "execute_result"
    }
   ],
   "source": [
    "exp2 = bmc.theory_D(2.03, 1.66, 293).value\n",
    "exp2"
   ]
  },
  {
   "cell_type": "code",
   "execution_count": 103,
   "id": "aee9e8d2",
   "metadata": {},
   "outputs": [
    {
     "name": "stdout",
     "output_type": "stream",
     "text": [
      "Frame 460: 30 trajectories present.\n",
      "19.842034685491285\n",
      "29.732046045292424\n",
      "21.198804386834347\n",
      "20.3110557077659\n",
      "17.085605040117365\n",
      "20.08714996978125\n",
      "15.412765720969674\n",
      "19.33475389190749\n",
      "19.34878871401245\n",
      "21.850322209454646\n",
      "16.87341959173868\n",
      "49.52297145551539\n",
      "21.17116521545383\n",
      "22.80642154822126\n",
      "18.115040918797597\n",
      "17.80424892554203\n",
      "15.836878880508284\n",
      "20.0312248726811\n",
      "22.645519802792347\n",
      "21.12359886091446\n",
      "23.07813747542799\n",
      "16.411308105512976\n",
      "31.627442593859637\n",
      "20.85254264717305\n",
      "21.853933794674212\n",
      "21.390918879337416\n",
      "24.683333152761445\n",
      "15.35523807278297\n",
      "23.19004716485777\n",
      "13.68670615839451\n",
      "26.72995977267848\n",
      "19.61340902938879\n",
      "19.502607774533516\n",
      "61.03369408709915\n",
      "17.564494458515075\n",
      "17.45613835423383\n",
      "26.88259889624737\n",
      "20.458676351184224\n",
      "32.30971480285724\n",
      "20.699185645553282\n"
     ]
    }
   ],
   "source": [
    "annotation2 = bmc.annotate(path2, diameter=5, minmass=50, maxsize=3, show=False, crop=((0,0), (0,0)))\n",
    "tracker2 = bmc.get_trajectories(annotation2, search_range=10, diameter=5, minmass=50, maxsize=3, show=False, clip_stubs=50)\n",
    "velos2 = all_velocity(tracker2, x20)"
   ]
  },
  {
   "cell_type": "code",
   "execution_count": 105,
   "id": "bbf555dc",
   "metadata": {},
   "outputs": [
    {
     "data": {
      "text/plain": [
       "(array([ 0.,  0.,  2.,  5.,  4., 10.,  7.,  4.,  1.,  2.,  0.,  1.,  2.,\n",
       "         0.]),\n",
       " array([10.        , 11.78571429, 13.57142857, 15.35714286, 17.14285714,\n",
       "        18.92857143, 20.71428571, 22.5       , 24.28571429, 26.07142857,\n",
       "        27.85714286, 29.64285714, 31.42857143, 33.21428571, 35.        ]),\n",
       " <BarContainer object of 14 artists>)"
      ]
     },
     "execution_count": 105,
     "metadata": {},
     "output_type": "execute_result"
    },
    {
     "data": {
      "image/png": "[encoded data removed]",
      "text/plain": [
       "<Figure size 432x288 with 1 Axes>"
      ]
     },
     "metadata": {
      "needs_background": "light"
     },
     "output_type": "display_data"
    }
   ],
   "source": [
    "plt.hist(velos2, bins=np.linspace(10,35,15))"
   ]
  },
  {
   "cell_type": "markdown",
   "id": "0fffb59b",
   "metadata": {},
   "source": [
    "# Test #3: 4.65 visc, 0.4 $ \\mu m $ size, GLY solution"
   ]
  },
  {
   "cell_type": "code",
   "execution_count": 125,
   "id": "554f0568",
   "metadata": {},
   "outputs": [
    {
     "name": "stdout",
     "output_type": "stream",
     "text": [
      "Frame 233: 18 trajectories present.\n"
     ]
    },
    {
     "data": {
      "text/plain": [
       "0.2325033796422822"
      ]
     },
     "execution_count": 125,
     "metadata": {},
     "output_type": "execute_result"
    }
   ],
   "source": [
    "path3 = bead_path(\"4.65\", \"GLY\", \"0.4\", \"40x\")[0]+\"/*.bmp\"\n",
    "obs3 = experiment(path3, 11, 500, 11, x40)\n",
    "obs3"
   ]
  },
  {
   "cell_type": "code",
   "execution_count": 126,
   "id": "50eb76bf",
   "metadata": {},
   "outputs": [
    {
     "data": {
      "text/plain": [
       "0.23076334808706264"
      ]
     },
     "execution_count": 126,
     "metadata": {},
     "output_type": "execute_result"
    }
   ],
   "source": [
    "exp3 = bmc.theory_D(0.4, 4.65, 293).value\n",
    "exp3"
   ]
  },
  {
   "cell_type": "code",
   "execution_count": 127,
   "id": "1ef47c23",
   "metadata": {},
   "outputs": [
    {
     "name": "stdout",
     "output_type": "stream",
     "text": [
      "Frame 233: 18 trajectories present.\n",
      "183.68333482235857\n",
      "150.3064121690775\n",
      "144.02694999580896\n",
      "153.0762668929907\n",
      "134.54617940266527\n",
      "136.2087152876874\n",
      "144.46479279221643\n",
      "153.95373881864438\n",
      "143.10828391667707\n",
      "137.87195200937177\n",
      "141.36488271429926\n",
      "146.42190515522614\n",
      "124.26688986767755\n",
      "155.13861996323706\n",
      "140.92237832170085\n",
      "160.2234621005034\n",
      "154.49376457673577\n",
      "142.475760124646\n",
      "124.40118093704976\n",
      "133.1016314005515\n",
      "129.6808843136232\n"
     ]
    },
    {
     "data": {
      "text/plain": [
       "(array([3., 2., 4., 5., 3., 2., 1., 0., 0., 1.]),\n",
       " array([124.26688987, 130.20853436, 136.15017886, 142.09182335,\n",
       "        148.03346785, 153.97511235, 159.91675684, 165.85840134,\n",
       "        171.80004583, 177.74169033, 183.68333482]),\n",
       " <BarContainer object of 10 artists>)"
      ]
     },
     "execution_count": 127,
     "metadata": {},
     "output_type": "execute_result"
    },
    {
     "data": {
      "image/png": "[encoded data removed]",
      "text/plain": [
       "<Figure size 432x288 with 1 Axes>"
      ]
     },
     "metadata": {
      "needs_background": "light"
     },
     "output_type": "display_data"
    }
   ],
   "source": [
    "velo_hist(path3, 11, 500, 11, x40)"
   ]
  },
  {
   "cell_type": "code",
   "execution_count": 142,
   "id": "5466fbb5",
   "metadata": {},
   "outputs": [
    {
     "name": "stdout",
     "output_type": "stream",
     "text": [
      "Frame 233: 16 trajectories present.\n"
     ]
    },
    {
     "data": {
      "text/plain": [
       "array([187.65012431, 111.86201141,  65.25853355, 195.54427729,\n",
       "       249.94329889, 159.90322091, 206.03522746, 150.70189984,\n",
       "       120.34003626,  35.25183854,  89.23619435,  81.56827679,\n",
       "       146.69683502, 276.57819195, 432.25733773, 213.11107506,\n",
       "       115.14074802, 133.40829734, 144.21497548,  38.7318865 ,\n",
       "       169.86077546, 353.0360947 , 279.86868457, 125.01781382,\n",
       "       285.83072585,  54.98629997, 138.20603422, 119.11192894,\n",
       "        29.2064686 ,  85.36605305, 174.42600804, 223.16579729,\n",
       "        92.14502516, 275.14997856,  99.94458535, 153.04630702,\n",
       "       243.58109468, 242.20243204, 117.9882967 ,  42.55466461,\n",
       "        75.75088668, 100.71659908,  44.27862515,  20.22326422,\n",
       "       181.35262052,  98.05004079,  27.03759077, 155.47061368,\n",
       "        44.58611922, 234.26107839, 189.7841539 , 242.99788535,\n",
       "       221.06895038, 241.56594585,  56.13014764, 101.2377869 ,\n",
       "       171.25694003, 205.70269824, 276.91196868,  67.56210519,\n",
       "       396.62188297, 226.3788187 , 150.34374802, 306.00605324,\n",
       "        51.08200027, 123.40665547, 172.07354616,  47.94794463,\n",
       "        36.87001488, 282.78407685,  45.21610306,  72.98113775,\n",
       "       109.70177147,  77.56458154, 245.36382029, 271.00229629,\n",
       "       189.00018157, 134.76424395, 210.94838017,  25.16428345,\n",
       "        48.6503049 ,  70.38413094,  39.86279629, 174.32479078,\n",
       "       131.10954756,  94.84807321,  41.86356028,  95.46623601,\n",
       "       160.50159672, 121.1547691 ,  65.23288671,  50.47249904,\n",
       "        77.64581612,  37.40141321, 196.03108633, 283.08290707,\n",
       "        61.00913597,  27.44939053,  20.42033677,  33.71904547,\n",
       "       228.52564787, 212.32871589, 233.14735718,  91.74552285,\n",
       "        58.55068251, 123.61605321, 141.92273891, 106.10106821,\n",
       "       373.56767584, 137.87559971, 148.61830435, 129.67103537,\n",
       "       219.92932314,  83.44751594, 290.47988658,  63.7400673 ,\n",
       "       211.47525421, 101.19577852, 107.465268  ,  79.51250912,\n",
       "       135.4637155 ,  60.2667411 ,  87.40922353,  54.56743194,\n",
       "       202.64030501,  87.36214522,   8.20002104,  54.2177041 ,\n",
       "        64.03847316, 222.30404002,  64.59637673, 129.8799663 ,\n",
       "       151.6675216 , 120.44026403, 226.08019257,  63.1726869 ,\n",
       "       186.75309938, 159.55656823, 222.61167642,  55.18019908,\n",
       "        24.81166738, 264.59341466, 112.98380309, 166.06522676,\n",
       "       174.40118401, 241.53553075,  90.90244116, 266.94260135,\n",
       "       145.86584583, 106.52349524,  54.50602011,  88.84031434,\n",
       "       128.39099422, 113.49556677, 135.56205983, 198.89654258,\n",
       "       174.24811313, 226.64696462,  84.77545728, 119.11826723,\n",
       "       122.09226509,  81.88696416, 162.03320291, 102.16593347,\n",
       "       256.79742194,  46.29000765, 158.21021946,  99.58592668,\n",
       "       302.60316012, 162.51672713,  47.5811845 , 119.50653384,\n",
       "        52.73313046, 306.4254229 , 139.97414893, 129.67995862,\n",
       "       154.47944214,  78.37242869, 237.55348337, 215.66462797,\n",
       "        31.46177668, 163.09253924, 174.8640956 , 147.5035034 ,\n",
       "       148.27032895, 153.53989106, 179.79225074])"
      ]
     },
     "execution_count": 142,
     "metadata": {},
     "output_type": "execute_result"
    }
   ],
   "source": [
    "annotation3 = bmc.annotate(path3, diameter=11, minmass=500, maxsize=3, show=False, crop=((0,0), (0,0)))\n",
    "tracker3 = bmc.get_trajectories(annotation3, search_range=5, diameter=11, minmass=500, maxsize=3, show=False, clip_stubs=50)\n",
    "clear3 = bmc.clear_drift(tracker3, show=False, correct=True)\n",
    "(bmc.particle_velocity(clear3, 6, x40, 30)[0])"
   ]
  },
  {
   "cell_type": "code",
   "execution_count": 61,
   "id": "86474833",
   "metadata": {},
   "outputs": [
    {
     "data": {
      "text/plain": [
       "frame\n",
       "0     1\n",
       "0     2\n",
       "0     3\n",
       "0     6\n",
       "0     7\n",
       "0     9\n",
       "0    10\n",
       "0    12\n",
       "0    13\n",
       "Name: particle, dtype: int64"
      ]
     },
     "execution_count": 61,
     "metadata": {},
     "output_type": "execute_result"
    }
   ],
   "source": [
    "tracker3[tracker3[\"frame\"]==0][\"particle\"]"
   ]
  },
  {
   "cell_type": "raw",
   "id": "33713347",
   "metadata": {},
   "source": []
  },
  {
   "cell_type": "markdown",
   "id": "1d8ebb5a",
   "metadata": {},
   "source": [
    "# Test #4: 4.65 visc, 0.4 $ \\mu m $ size, PVP solution"
   ]
  },
  {
   "cell_type": "code",
   "execution_count": 34,
   "id": "a91fb476",
   "metadata": {},
   "outputs": [
    {
     "name": "stdout",
     "output_type": "stream",
     "text": [
      "Frame 179: 19 trajectories present.\n"
     ]
    },
    {
     "data": {
      "text/plain": [
       "0.3256151806986959"
      ]
     },
     "execution_count": 34,
     "metadata": {},
     "output_type": "execute_result"
    }
   ],
   "source": [
    "path4 = bead_path(\"4.65\", \"PVP\", \"0.4\", \"40x\")[1]+\"/*.bmp\"\n",
    "obs4 = experiment(path4, 11, 500, 11, x40)\n",
    "obs4"
   ]
  },
  {
   "cell_type": "code",
   "execution_count": 35,
   "id": "c9e7f7e0",
   "metadata": {},
   "outputs": [
    {
     "data": {
      "text/plain": [
       "0.23076334808706264"
      ]
     },
     "execution_count": 35,
     "metadata": {},
     "output_type": "execute_result"
    }
   ],
   "source": [
    "exp4 = bmc.theory_D(0.4, 4.65, 293).value\n",
    "exp4"
   ]
  },
  {
   "cell_type": "code",
   "execution_count": 130,
   "id": "61bfdb5a",
   "metadata": {},
   "outputs": [
    {
     "name": "stdout",
     "output_type": "stream",
     "text": [
      "Frame 179: 19 trajectories present.\n",
      "184.15363439452418\n",
      "145.25831797527428\n",
      "143.57062146152487\n",
      "156.35388929495548\n",
      "152.3860323774135\n",
      "175.12391553697495\n",
      "188.58892706073533\n",
      "183.91767890239964\n",
      "165.5299069338237\n",
      "159.46798661168802\n",
      "170.68188232848902\n",
      "233.53976086014592\n",
      "154.33571921439022\n",
      "181.8532598312791\n",
      "168.837967082969\n",
      "183.5516943840657\n",
      "171.4646303125844\n",
      "188.16694008456722\n",
      "173.40025046242113\n",
      "158.69391562248143\n"
     ]
    },
    {
     "data": {
      "text/plain": [
       "(array([3., 4., 2., 4., 5., 1., 0., 0., 0., 1.]),\n",
       " array([143.57062146, 152.5675354 , 161.56444934, 170.56136328,\n",
       "        179.55827722, 188.55519116, 197.5521051 , 206.54901904,\n",
       "        215.54593298, 224.54284692, 233.53976086]),\n",
       " <BarContainer object of 10 artists>)"
      ]
     },
     "execution_count": 130,
     "metadata": {},
     "output_type": "execute_result"
    },
    {
     "data": {
      "image/png": "[encoded data removed]",
      "text/plain": [
       "<Figure size 432x288 with 1 Axes>"
      ]
     },
     "metadata": {
      "needs_background": "light"
     },
     "output_type": "display_data"
    }
   ],
   "source": [
    "velo_hist(path4, 11, 500, 11, x40)"
   ]
  },
  {
   "cell_type": "markdown",
   "id": "fae5b2ff",
   "metadata": {},
   "source": [
    "# Test #5: 13.2 visc, 0.4 $ \\mu m $ size, PVP solution"
   ]
  },
  {
   "cell_type": "code",
   "execution_count": 40,
   "id": "38975700",
   "metadata": {},
   "outputs": [
    {
     "name": "stdout",
     "output_type": "stream",
     "text": [
      "Frame 83: 31 trajectories present.\n"
     ]
    },
    {
     "data": {
      "text/plain": [
       "0.061270638441190524"
      ]
     },
     "execution_count": 40,
     "metadata": {},
     "output_type": "execute_result"
    }
   ],
   "source": [
    "path5 = bead_path(\"13.2\", \"PVP\", \"0.4\", \"40x\")[1]+\"/*.bmp\"\n",
    "obs5 = experiment(path5, 11, 300, 11, x40)\n",
    "obs5"
   ]
  },
  {
   "cell_type": "code",
   "execution_count": 41,
   "id": "32e2b5df",
   "metadata": {},
   "outputs": [
    {
     "data": {
      "text/plain": [
       "0.08129163398521526"
      ]
     },
     "execution_count": 41,
     "metadata": {},
     "output_type": "execute_result"
    }
   ],
   "source": [
    "exp5 = bmc.theory_D(0.4, 13.2, 293).value\n",
    "exp5"
   ]
  },
  {
   "cell_type": "code",
   "execution_count": 113,
   "id": "f8b22bbb",
   "metadata": {},
   "outputs": [
    {
     "name": "stdout",
     "output_type": "stream",
     "text": [
      "Frame 83: 31 trajectories present.\n",
      "71.55165340727373\n",
      "81.27710737872273\n",
      "69.33879976515094\n",
      "64.97176148203334\n",
      "71.89048000855658\n",
      "75.50390255170166\n",
      "79.55768571619596\n",
      "157.2879775068405\n",
      "71.17109663895432\n",
      "71.19574704204798\n",
      "77.15072657287098\n",
      "70.99799942363876\n",
      "73.41550193646646\n",
      "83.36527303754924\n",
      "73.96734204759552\n",
      "72.15187905240118\n",
      "77.94255926403524\n",
      "80.92038069666366\n",
      "67.64178701442626\n",
      "79.24698372612431\n",
      "72.34560034179704\n",
      "63.85348483760485\n",
      "69.64403807122905\n",
      "72.70455866653019\n",
      "74.07396599345834\n"
     ]
    },
    {
     "data": {
      "text/plain": [
       "(array([13., 10.,  1.,  0.,  0.,  0.,  0.,  0.,  0.,  1.]),\n",
       " array([ 63.85348484,  73.1969341 ,  82.54038337,  91.88383264,\n",
       "        101.22728191, 110.57073117, 119.91418044, 129.25762971,\n",
       "        138.60107897, 147.94452824, 157.28797751]),\n",
       " <BarContainer object of 10 artists>)"
      ]
     },
     "execution_count": 113,
     "metadata": {},
     "output_type": "execute_result"
    },
    {
     "data": {
      "image/png": "[encoded data removed]",
      "text/plain": [
       "<Figure size 432x288 with 1 Axes>"
      ]
     },
     "metadata": {
      "needs_background": "light"
     },
     "output_type": "display_data"
    }
   ],
   "source": [
    "velo_hist(path5, 11, 300, 11, x40)"
   ]
  },
  {
   "cell_type": "markdown",
   "id": "5e80d908",
   "metadata": {},
   "source": [
    "# Error"
   ]
  },
  {
   "cell_type": "code",
   "execution_count": 94,
   "id": "f2ad821a",
   "metadata": {},
   "outputs": [
    {
     "data": {
      "text/plain": [
       "34.611423453219395"
      ]
     },
     "execution_count": 94,
     "metadata": {},
     "output_type": "execute_result"
    }
   ],
   "source": [
    "exp_list = np.array([exp1, exp2, exp3, exp4, exp5])\n",
    "obs_list = np.array([obs1, obs2, obs3, obs4, obs5])\n",
    "\n",
    "def error(obs, exp):\n",
    "    return abs(obs - exp) / exp * 100\n",
    "\n",
    "error(obs1, exp1)"
   ]
  },
  {
   "cell_type": "code",
   "execution_count": 100,
   "id": "a45714bb",
   "metadata": {},
   "outputs": [
    {
     "data": {
      "text/plain": [
       "<matplotlib.collections.PathCollection at 0x7fde70a25340>"
      ]
     },
     "execution_count": 100,
     "metadata": {},
     "output_type": "execute_result"
    },
    {
     "data": {
      "image/png": "[encoded data removed]",
      "text/plain": [
       "<Figure size 432x288 with 1 Axes>"
      ]
     },
     "metadata": {
      "needs_background": "light"
     },
     "output_type": "display_data"
    }
   ],
   "source": [
    "plt.scatter(exp_list, error(obs_list, exp_list))"
   ]
  },
  {
   "cell_type": "code",
   "execution_count": null,
   "id": "a43c591a",
   "metadata": {},
   "outputs": [],
   "source": []
  }
 ],
 "metadata": {
  "kernelspec": {
   "display_name": "Python 3 (ipykernel)",
   "language": "python",
   "name": "python3"
  },
  "language_info": {
   "codemirror_mode": {
    "name": "ipython",
    "version": 3
   },
   "file_extension": ".py",
   "mimetype": "text/x-python",
   "name": "python",
   "nbconvert_exporter": "python",
   "pygments_lexer": "ipython3",
   "version": "3.9.5"
  }
 },
 "nbformat": 4,
 "nbformat_minor": 5
}
