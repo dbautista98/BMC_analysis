{
 "cells": [
  {
   "cell_type": "code",
   "execution_count": 1,
   "id": "08ee9983",
   "metadata": {},
   "outputs": [],
   "source": [
    "import glob\n",
    "import pims\n",
    "import trackpy as tp\n",
    "import numpy as np\n",
    "import pandas as pd\n",
    "import matplotlib.pyplot as plt\n",
    "import astropy.constants as c\n",
    "import astropy.units as u\n",
    "import bmc"
   ]
  },
  {
   "cell_type": "code",
   "execution_count": 2,
   "id": "bea47064",
   "metadata": {},
   "outputs": [],
   "source": [
    "def bead_path(viscosity, solute, size, magnification):\n",
    "    path = \"../data/beads/%s_visc_%s_%s_um-%s*\"%(viscosity, solute, size, magnification)\n",
    "    return glob.glob(path)"
   ]
  },
  {
   "cell_type": "code",
   "execution_count": 3,
   "id": "ad6b2da1",
   "metadata": {},
   "outputs": [],
   "source": [
    "# um_per_px for each zoom\n",
    "x10 = 9.51/13\n",
    "x20 = 9.51/24\n",
    "x40 = 9.51/57"
   ]
  },
  {
   "cell_type": "markdown",
   "id": "633c1043",
   "metadata": {},
   "source": [
    "# Test #1: 1.66 visc, 0.4 $ \\mu m$ size, PVP solution "
   ]
  },
  {
   "cell_type": "code",
   "execution_count": 75,
   "id": "cd80f8cf",
   "metadata": {},
   "outputs": [
    {
     "name": "stdout",
     "output_type": "stream",
     "text": [
      "Frame 245: 23 trajectories present.\n"
     ]
    },
    {
     "data": {
      "text/plain": [
       "0.4226818304530578"
      ]
     },
     "execution_count": 75,
     "metadata": {},
     "output_type": "execute_result"
    }
   ],
   "source": [
    "path1 = bead_path(\"1.66\", \"PVP\", \"0.4\", \"40x\")[0] + \"/*.bmp\"\n",
    "obs1 = experiment(path1, 11, 500, 3, x40)\n",
    "obs1"
   ]
  },
  {
   "cell_type": "code",
   "execution_count": 78,
   "id": "70f055a7",
   "metadata": {},
   "outputs": [
    {
     "data": {
      "text/plain": [
       "0.646415402774001"
      ]
     },
     "execution_count": 78,
     "metadata": {},
     "output_type": "execute_result"
    }
   ],
   "source": [
    "exp1 = bmc.theory_D(0.4, 1.66, 293).value\n",
    "exp1"
   ]
  },
  {
   "cell_type": "code",
   "execution_count": 6,
   "id": "3100a6cb",
   "metadata": {},
   "outputs": [
    {
     "data": {
      "text/plain": [
       "(200.0, 0.0)"
      ]
     },
     "execution_count": 6,
     "metadata": {},
     "output_type": "execute_result"
    },
    {
     "data": {
      "image/png": "[encoded data removed]",
      "text/plain": [
       "<Figure size 432x288 with 1 Axes>"
      ]
     },
     "metadata": {
      "needs_background": "light"
     },
     "output_type": "display_data"
    }
   ],
   "source": [
    "num=3\n",
    "temp = frame1[frame1[\"particle\"]==num]\n",
    "plt.figure()\n",
    "plt.plot(temp[\"x\"], temp['y'])\n",
    "plt.xlim((0,200))\n",
    "plt.ylim((200,0))"
   ]
  },
  {
   "cell_type": "code",
   "execution_count": 7,
   "id": "a6d8a333",
   "metadata": {},
   "outputs": [
    {
     "data": {
      "text/plain": [
       "(-0.1643618035410704, -0.059961321321401126)"
      ]
     },
     "execution_count": 7,
     "metadata": {},
     "output_type": "execute_result"
    }
   ],
   "source": [
    "np.mean(np.diff(temp['x'].values)), np.mean(np.diff(temp['y'].values))"
   ]
  },
  {
   "cell_type": "code",
   "execution_count": 8,
   "id": "8b5ffe0d",
   "metadata": {},
   "outputs": [
    {
     "data": {
      "text/plain": [
       "(-0.1643618035410704, -0.059961321321401126)"
      ]
     },
     "execution_count": 8,
     "metadata": {},
     "output_type": "execute_result"
    }
   ],
   "source": [
    "np.mean(np.diff(temp['x'].values)), np.mean(np.diff(temp['y'].values))"
   ]
  },
  {
   "cell_type": "code",
   "execution_count": 47,
   "id": "643c7708",
   "metadata": {},
   "outputs": [],
   "source": [
    "def experiment(filepath, diameter, minmass, maxsize, um_per_px):\n",
    "    annotation = bmc.annotate(filepath, diameter=diameter, minmass=minmass, maxsize=maxsize, show=False, crop=((0,0), (0,0)))\n",
    "    tracker = bmc.get_trajectories(annotation, search_range=10, diameter=diameter, minmass=minmass, maxsize=maxsize, show=False, clip_stubs=50)\n",
    "    clear = bmc.clear_drift(tracker, show=False, correct=True)\n",
    "    diff_coeff = bmc.diffusion_coeff(clear, um_per_px, 30, show=False)\n",
    "    return diff_coeff"
   ]
  },
  {
   "cell_type": "code",
   "execution_count": 48,
   "id": "bcd7a6d3",
   "metadata": {},
   "outputs": [
    {
     "name": "stdout",
     "output_type": "stream",
     "text": [
      "Frame 460: 30 trajectories present.\n"
     ]
    },
    {
     "data": {
      "text/plain": [
       "0.12323353544174802"
      ]
     },
     "execution_count": 48,
     "metadata": {},
     "output_type": "execute_result"
    }
   ],
   "source": [
    "path2 = bead_path(\"1.66\", \"PVP\", \"2.03\", \"20x\")[0]+\"/*.bmp\"\n",
    "obs2 = experiment(path2, 5, 50, 3, x20)\n",
    "obs2"
   ]
  },
  {
   "cell_type": "code",
   "execution_count": 79,
   "id": "9dae2109",
   "metadata": {},
   "outputs": [
    {
     "data": {
      "text/plain": [
       "0.12737249315743862"
      ]
     },
     "execution_count": 79,
     "metadata": {},
     "output_type": "execute_result"
    }
   ],
   "source": [
    "exp2 = bmc.theory_D(2.03, 1.66, 293).value\n",
    "exp2"
   ]
  },
  {
   "cell_type": "code",
   "execution_count": 50,
   "id": "554f0568",
   "metadata": {},
   "outputs": [
    {
     "name": "stdout",
     "output_type": "stream",
     "text": [
      "Frame 233: 18 trajectories present.\n"
     ]
    },
    {
     "data": {
      "text/plain": [
       "0.2325033796422822"
      ]
     },
     "execution_count": 50,
     "metadata": {},
     "output_type": "execute_result"
    }
   ],
   "source": [
    "path3 = bead_path(\"4.65\", \"GLY\", \"0.4\", \"40x\")[0]+\"/*.bmp\"\n",
    "obs3 = experiment(path3, 11, 500, 11, x40)\n",
    "obs3"
   ]
  },
  {
   "cell_type": "code",
   "execution_count": 80,
   "id": "50eb76bf",
   "metadata": {},
   "outputs": [
    {
     "data": {
      "text/plain": [
       "0.23076334808706264"
      ]
     },
     "execution_count": 80,
     "metadata": {},
     "output_type": "execute_result"
    }
   ],
   "source": [
    "exp3 = bmc.theory_D(0.4, 4.65, 293).value\n",
    "exp3"
   ]
  },
  {
   "cell_type": "code",
   "execution_count": 61,
   "id": "a91fb476",
   "metadata": {},
   "outputs": [
    {
     "name": "stdout",
     "output_type": "stream",
     "text": [
      "Frame 179: 19 trajectories present.\n"
     ]
    },
    {
     "data": {
      "text/plain": [
       "0.3256151806986959"
      ]
     },
     "execution_count": 61,
     "metadata": {},
     "output_type": "execute_result"
    }
   ],
   "source": [
    "path4 = bead_path(\"4.65\", \"PVP\", \"0.4\", \"40x\")[1]+\"/*.bmp\"\n",
    "obs4 = experiment(path4, 11, 500, 11, x40)\n",
    "obs4"
   ]
  },
  {
   "cell_type": "code",
   "execution_count": 81,
   "id": "c9e7f7e0",
   "metadata": {},
   "outputs": [
    {
     "data": {
      "text/plain": [
       "0.23076334808706264"
      ]
     },
     "execution_count": 81,
     "metadata": {},
     "output_type": "execute_result"
    }
   ],
   "source": [
    "exp4 = bmc.theory_D(0.4, 4.65, 293).value\n",
    "exp4"
   ]
  },
  {
   "cell_type": "code",
   "execution_count": 55,
   "id": "38975700",
   "metadata": {},
   "outputs": [
    {
     "name": "stdout",
     "output_type": "stream",
     "text": [
      "Frame 768: 29 trajectories present.\n"
     ]
    },
    {
     "data": {
      "text/plain": [
       "0.0679429338351699"
      ]
     },
     "execution_count": 55,
     "metadata": {},
     "output_type": "execute_result"
    }
   ],
   "source": [
    "path5 = bead_path(\"13.2\", \"PVP\", \"0.4\", \"40x\")[0]+\"/*.bmp\"\n",
    "obs5 = experiment(path5, 11, 300, 11, x40)\n",
    "obs5"
   ]
  },
  {
   "cell_type": "code",
   "execution_count": 82,
   "id": "32e2b5df",
   "metadata": {},
   "outputs": [
    {
     "data": {
      "text/plain": [
       "0.08129163398521526"
      ]
     },
     "execution_count": 82,
     "metadata": {},
     "output_type": "execute_result"
    }
   ],
   "source": [
    "exp5 = bmc.theory_D(0.4, 13.2, 293).value\n",
    "exp5"
   ]
  },
  {
   "cell_type": "code",
   "execution_count": 94,
   "id": "f2ad821a",
   "metadata": {},
   "outputs": [
    {
     "data": {
      "text/plain": [
       "34.611423453219395"
      ]
     },
     "execution_count": 94,
     "metadata": {},
     "output_type": "execute_result"
    }
   ],
   "source": [
    "exp_list = np.array([exp1, exp2, exp3, exp4, exp5])\n",
    "obs_list = np.array([obs1, obs2, obs3, obs4, obs5])\n",
    "\n",
    "def error(obs, exp):\n",
    "    return abs(obs - exp) / exp * 100\n",
    "\n",
    "error(obs1, exp1)"
   ]
  },
  {
   "cell_type": "code",
   "execution_count": 100,
   "id": "a45714bb",
   "metadata": {},
   "outputs": [
    {
     "data": {
      "text/plain": [
       "<matplotlib.collections.PathCollection at 0x7fde70a25340>"
      ]
     },
     "execution_count": 100,
     "metadata": {},
     "output_type": "execute_result"
    },
    {
     "data": {
      "image/png": "[encoded data removed]",
      "text/plain": [
       "<Figure size 432x288 with 1 Axes>"
      ]
     },
     "metadata": {
      "needs_background": "light"
     },
     "output_type": "display_data"
    }
   ],
   "source": [
    "plt.scatter(exp_list, error(obs_list, exp_list))"
   ]
  },
  {
   "cell_type": "code",
   "execution_count": null,
   "id": "a43c591a",
   "metadata": {},
   "outputs": [],
   "source": []
  }
 ],
 "metadata": {
  "kernelspec": {
   "display_name": "Python 3 (ipykernel)",
   "language": "python",
   "name": "python3"
  },
  "language_info": {
   "codemirror_mode": {
    "name": "ipython",
    "version": 3
   },
   "file_extension": ".py",
   "mimetype": "text/x-python",
   "name": "python",
   "nbconvert_exporter": "python",
   "pygments_lexer": "ipython3",
   "version": "3.9.5"
  }
 },
 "nbformat": 4,
 "nbformat_minor": 5
}
