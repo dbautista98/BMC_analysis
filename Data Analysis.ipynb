{
 "cells": [
  {
   "cell_type": "code",
   "execution_count": 2,
   "id": "cd55a665",
   "metadata": {},
   "outputs": [],
   "source": [
    "import glob\n",
    "import pims\n",
    "import trackpy as tp\n",
    "import numpy as np\n",
    "import pandas as pd\n",
    "import matplotlib.pyplot as plt\n",
    "import astropy.constants as c\n",
    "import astropy.units as u\n",
    "import bmc"
   ]
  },
  {
   "cell_type": "markdown",
   "id": "7a78adcf",
   "metadata": {},
   "source": [
    "# Microscope Data"
   ]
  },
  {
   "cell_type": "code",
   "execution_count": 3,
   "id": "49a44e7b",
   "metadata": {},
   "outputs": [],
   "source": [
    "# um_per_px for each zoom\n",
    "x10 = 9.51/13\n",
    "x20 = 9.51/24\n",
    "x40 = 9.51/57"
   ]
  },
  {
   "cell_type": "markdown",
   "id": "d559547a",
   "metadata": {},
   "source": [
    "# Bead Data"
   ]
  },
  {
   "cell_type": "code",
   "execution_count": 4,
   "id": "34e49f39",
   "metadata": {},
   "outputs": [],
   "source": [
    "def bead_path(viscosity, solute, size, magnification):\n",
    "    path = \"../data/beads/%s_visc_%s_%s_um-%s*\"%(viscosity, solute, size, magnification)\n",
    "    return glob.glob(path)"
   ]
  },
  {
   "cell_type": "code",
   "execution_count": 5,
   "id": "370c3813",
   "metadata": {},
   "outputs": [
    {
     "data": {
      "text/plain": [
       "['../data/beads/13.2_visc_PVP_0.4_um-40x',\n",
       " '../data/beads/13.2_visc_PVP_0.4_um-40x-2']"
      ]
     },
     "execution_count": 5,
     "metadata": {},
     "output_type": "execute_result"
    }
   ],
   "source": [
    "bead_path(\"13.2\", \"PVP\", \"0.4\", \"40\")"
   ]
  },
  {
   "cell_type": "markdown",
   "id": "ab60891e",
   "metadata": {},
   "source": [
    "# Onion Data"
   ]
  },
  {
   "cell_type": "code",
   "execution_count": 6,
   "id": "6aedb9b3",
   "metadata": {},
   "outputs": [],
   "source": [
    "onion_both = \"../data/onion_1/Onion-cytoplasm-20x-3/*.bmp\"\n",
    "onion_tri = \"../data/onion_2/Onion_bulk_20x/*.bmp\"\n",
    "\n",
    "def onion_path(onion, flow):\n",
    "    path = \"../data/onion_%s/Onion_%s_20x*\"%(onion, flow)\n",
    "    return glob.glob(path)"
   ]
  },
  {
   "cell_type": "code",
   "execution_count": 7,
   "id": "82324ab9",
   "metadata": {},
   "outputs": [
    {
     "data": {
      "text/plain": [
       "['../data/onion_4/Onion_bulk_20x-3',\n",
       " '../data/onion_4/Onion_bulk_20x-5',\n",
       " '../data/onion_4/Onion_bulk_20x-30',\n",
       " '../data/onion_4/Onion_bulk_20x-13',\n",
       " '../data/onion_4/Onion_bulk_20x-17',\n",
       " '../data/onion_4/Onion_bulk_20x-25',\n",
       " '../data/onion_4/Onion_bulk_20x-8',\n",
       " '../data/onion_4/Onion_bulk_20x-6',\n",
       " '../data/onion_4/Onion_bulk_20x-14',\n",
       " '../data/onion_4/Onion_bulk_20x-29',\n",
       " '../data/onion_4/Onion_bulk_20x-15',\n",
       " '../data/onion_4/Onion_bulk_20x-28',\n",
       " '../data/onion_4/Onion_bulk_20x-23',\n",
       " '../data/onion_4/Onion_bulk_20x-20',\n",
       " '../data/onion_4/Onion_bulk_20x-31',\n",
       " '../data/onion_4/Onion_bulk_20x-22',\n",
       " '../data/onion_4/Onion_bulk_20x-11',\n",
       " '../data/onion_4/Onion_bulk_20x-16',\n",
       " '../data/onion_4/Onion_bulk_20x',\n",
       " '../data/onion_4/Onion_bulk_20x-26',\n",
       " '../data/onion_4/Onion_bulk_20x-18',\n",
       " '../data/onion_4/Onion_bulk_20x-12',\n",
       " '../data/onion_4/Onion_bulk_20x-9',\n",
       " '../data/onion_4/Onion_bulk_20x-7',\n",
       " '../data/onion_4/Onion_bulk_20x-24',\n",
       " '../data/onion_4/Onion_bulk_20x-21',\n",
       " '../data/onion_4/Onion_bulk_20x-10',\n",
       " '../data/onion_4/Onion_bulk_20x-2',\n",
       " '../data/onion_4/Onion_bulk_20x-27',\n",
       " '../data/onion_4/Onion_bulk_20x-19',\n",
       " '../data/onion_4/Onion_bulk_20x-4']"
      ]
     },
     "execution_count": 7,
     "metadata": {},
     "output_type": "execute_result"
    }
   ],
   "source": [
    "onion_path(\"4\", \"bulk\")"
   ]
  },
  {
   "cell_type": "markdown",
   "id": "e1e26b4c",
   "metadata": {},
   "source": [
    "# Velo"
   ]
  },
  {
   "cell_type": "code",
   "execution_count": 8,
   "id": "a4d707e6",
   "metadata": {},
   "outputs": [
    {
     "name": "stdout",
     "output_type": "stream",
     "text": [
      "Frame 357: 25 trajectories present.\n"
     ]
    },
    {
     "data": {
      "text/html": [
       "<div>\n",
       "<style scoped>\n",
       "    .dataframe tbody tr th:only-of-type {\n",
       "        vertical-align: middle;\n",
       "    }\n",
       "\n",
       "    .dataframe tbody tr th {\n",
       "        vertical-align: top;\n",
       "    }\n",
       "\n",
       "    .dataframe thead th {\n",
       "        text-align: right;\n",
       "    }\n",
       "</style>\n",
       "<table border=\"1\" class=\"dataframe\">\n",
       "  <thead>\n",
       "    <tr style=\"text-align: right;\">\n",
       "      <th></th>\n",
       "      <th>y</th>\n",
       "      <th>x</th>\n",
       "      <th>mass</th>\n",
       "      <th>size</th>\n",
       "      <th>ecc</th>\n",
       "      <th>signal</th>\n",
       "      <th>raw_mass</th>\n",
       "      <th>ep</th>\n",
       "      <th>frame</th>\n",
       "      <th>particle</th>\n",
       "    </tr>\n",
       "  </thead>\n",
       "  <tbody>\n",
       "    <tr>\n",
       "      <th>0</th>\n",
       "      <td>5.732875</td>\n",
       "      <td>88.765092</td>\n",
       "      <td>540.737228</td>\n",
       "      <td>1.836021</td>\n",
       "      <td>0.053995</td>\n",
       "      <td>43.130433</td>\n",
       "      <td>6126.9058</td>\n",
       "      <td>0.238771</td>\n",
       "      <td>0</td>\n",
       "      <td>0</td>\n",
       "    </tr>\n",
       "    <tr>\n",
       "      <th>28</th>\n",
       "      <td>185.119352</td>\n",
       "      <td>22.603581</td>\n",
       "      <td>198.399990</td>\n",
       "      <td>1.769063</td>\n",
       "      <td>0.159411</td>\n",
       "      <td>14.715089</td>\n",
       "      <td>8003.8252</td>\n",
       "      <td>0.080846</td>\n",
       "      <td>0</td>\n",
       "      <td>1</td>\n",
       "    </tr>\n",
       "    <tr>\n",
       "      <th>27</th>\n",
       "      <td>158.047079</td>\n",
       "      <td>7.898940</td>\n",
       "      <td>686.196727</td>\n",
       "      <td>2.422117</td>\n",
       "      <td>0.334792</td>\n",
       "      <td>33.320373</td>\n",
       "      <td>10250.5033</td>\n",
       "      <td>0.045122</td>\n",
       "      <td>0</td>\n",
       "      <td>2</td>\n",
       "    </tr>\n",
       "    <tr>\n",
       "      <th>26</th>\n",
       "      <td>152.168783</td>\n",
       "      <td>193.426438</td>\n",
       "      <td>226.477056</td>\n",
       "      <td>1.991955</td>\n",
       "      <td>0.076918</td>\n",
       "      <td>15.560784</td>\n",
       "      <td>5504.4689</td>\n",
       "      <td>0.677942</td>\n",
       "      <td>0</td>\n",
       "      <td>3</td>\n",
       "    </tr>\n",
       "    <tr>\n",
       "      <th>25</th>\n",
       "      <td>152.198118</td>\n",
       "      <td>28.536404</td>\n",
       "      <td>341.491543</td>\n",
       "      <td>2.226189</td>\n",
       "      <td>0.285273</td>\n",
       "      <td>20.634952</td>\n",
       "      <td>7043.6835</td>\n",
       "      <td>0.122188</td>\n",
       "      <td>0</td>\n",
       "      <td>4</td>\n",
       "    </tr>\n",
       "  </tbody>\n",
       "</table>\n",
       "</div>"
      ],
      "text/plain": [
       "             y           x        mass      size       ecc     signal  \\\n",
       "0     5.732875   88.765092  540.737228  1.836021  0.053995  43.130433   \n",
       "28  185.119352   22.603581  198.399990  1.769063  0.159411  14.715089   \n",
       "27  158.047079    7.898940  686.196727  2.422117  0.334792  33.320373   \n",
       "26  152.168783  193.426438  226.477056  1.991955  0.076918  15.560784   \n",
       "25  152.198118   28.536404  341.491543  2.226189  0.285273  20.634952   \n",
       "\n",
       "      raw_mass        ep  frame  particle  \n",
       "0    6126.9058  0.238771      0         0  \n",
       "28   8003.8252  0.080846      0         1  \n",
       "27  10250.5033  0.045122      0         2  \n",
       "26   5504.4689  0.677942      0         3  \n",
       "25   7043.6835  0.122188      0         4  "
      ]
     },
     "execution_count": 8,
     "metadata": {},
     "output_type": "execute_result"
    }
   ],
   "source": [
    "test_path = onion_tri\n",
    "test_frames = pims.as_gray(pims.open(test_path))\n",
    "\n",
    "test_f = tp.batch(test_frames, diameter=9, minmass=132, maxsize=3)\n",
    "test_t = tp.link(test_f, search_range=10, memory=3)\n",
    "test_t.head()"
   ]
  },
  {
   "cell_type": "code",
   "execution_count": 9,
   "id": "ecf0e3ac",
   "metadata": {},
   "outputs": [],
   "source": [
    "particle = 0\n",
    "particle_test_tab = test_t[test_t[\"particle\"] == particle]"
   ]
  },
  {
   "cell_type": "code",
   "execution_count": 10,
   "id": "8d3ce3f3",
   "metadata": {},
   "outputs": [],
   "source": [
    "test_x_disp = np.diff(particle_test_tab['x'].values)\n",
    "test_y_disp = np.diff(particle_test_tab['y'].values)\n",
    "test_r_disp = np.sqrt(test_x_disp**2 + test_y_disp**2)"
   ]
  },
  {
   "cell_type": "code",
   "execution_count": 11,
   "id": "6ed4153a",
   "metadata": {},
   "outputs": [],
   "source": [
    "test_fps = 24\n",
    "test_px_conv = 0.39625"
   ]
  },
  {
   "cell_type": "code",
   "execution_count": 12,
   "id": "9e6c777b",
   "metadata": {},
   "outputs": [],
   "source": [
    "test_velo = test_r_disp * test_fps / test_px_conv"
   ]
  },
  {
   "cell_type": "code",
   "execution_count": 13,
   "id": "f15df665",
   "metadata": {},
   "outputs": [
    {
     "data": {
      "text/plain": [
       "28.329906471241305"
      ]
     },
     "execution_count": 13,
     "metadata": {},
     "output_type": "execute_result"
    }
   ],
   "source": [
    "np.mean(test_velo)"
   ]
  },
  {
   "cell_type": "code",
   "execution_count": 14,
   "id": "c78db24f",
   "metadata": {},
   "outputs": [
    {
     "data": {
      "text/plain": [
       "94.72677149668681"
      ]
     },
     "execution_count": 14,
     "metadata": {},
     "output_type": "execute_result"
    }
   ],
   "source": [
    "np.std(test_velo)"
   ]
  },
  {
   "cell_type": "code",
   "execution_count": 15,
   "id": "2aad2749",
   "metadata": {},
   "outputs": [
    {
     "data": {
      "image/png": "[encoded data removed]",
      "text/plain": [
       "<Figure size 432x288 with 1 Axes>"
      ]
     },
     "metadata": {
      "needs_background": "light"
     },
     "output_type": "display_data"
    }
   ],
   "source": [
    "_=plt.hist(test_velo, bins=np.linspace(0,15))"
   ]
  },
  {
   "cell_type": "code",
   "execution_count": 16,
   "id": "2fa823ad",
   "metadata": {},
   "outputs": [
    {
     "name": "stdout",
     "output_type": "stream",
     "text": [
      "Frame 357: 25 trajectories present.\n"
     ]
    }
   ],
   "source": [
    "def particle_tab(path, particle_index=0, diameter=11, minmass=250, maxsize=3):\n",
    "    frames = pims.as_gray(pims.open(path))\n",
    "    f = tp.batch(frames, diameter=diameter, minmass=minmass, maxsize=maxsize)\n",
    "    t = tp.link(f, search_range=10, memory=3)\n",
    "    particle_tab = t[t[\"particle\"] == particle_index]\n",
    "    return particle_tab\n",
    "\n",
    "tab_0 = particle_tab(onion_tri, 0, 9, 132, 3)"
   ]
  },
  {
   "cell_type": "code",
   "execution_count": 17,
   "id": "62686511",
   "metadata": {},
   "outputs": [
    {
     "data": {
      "text/plain": [
       "(28.329906471241305, 94.72677149668681)"
      ]
     },
     "execution_count": 17,
     "metadata": {},
     "output_type": "execute_result"
    }
   ],
   "source": [
    "def particle_velo(table, px, fps):\n",
    "    \"\"\"returns average velocity in microns per second\"\"\"\n",
    "    x_disp = np.diff(table['x'].values)\n",
    "    y_disp = np.diff(table['y'].values)\n",
    "    r_disp = np.sqrt(x_disp**2 + y_disp**2)\n",
    "    velo = r_disp * fps / px\n",
    "    return np.mean(velo), np.std(velo)\n",
    "\n",
    "particle_velo(tab_0, 0.39625, 24)"
   ]
  },
  {
   "cell_type": "code",
   "execution_count": 18,
   "id": "dd8592ca",
   "metadata": {},
   "outputs": [
    {
     "data": {
      "text/plain": [
       "0.40213681579816596"
      ]
     },
     "execution_count": 18,
     "metadata": {},
     "output_type": "execute_result"
    }
   ],
   "source": [
    "def diff_coeff(table, px, fps):\n",
    "    t_filter = tp.filter_stubs(table, threshold=25)\n",
    "    d = tp.compute_drift(t_filter)\n",
    "    tm = tp.subtract_drift(t_filter.copy(), d)\n",
    "    em = tp.emsd(tm, px, fps)\n",
    "    fits = tp.utils.fit_powerlaw(em, plot=False)\n",
    "    return fits[\"A\"][0]/4\n",
    "\n",
    "onion_coeff = diff_coeff(tab_0, 0.39625, 30)\n",
    "onion_coeff"
   ]
  },
  {
   "cell_type": "code",
   "execution_count": 19,
   "id": "3aa663b0",
   "metadata": {},
   "outputs": [],
   "source": [
    "def visc(r, D):\n",
    "    kT = c.k_B*300*u.K\n",
    "    D = D*(u.um**2 / u.s)\n",
    "    r = r*(u.um)\n",
    "    return (kT / (6*np.pi*D*r)).to(u.mPa * u.s)"
   ]
  },
  {
   "cell_type": "code",
   "execution_count": 20,
   "id": "a6c3e7da",
   "metadata": {},
   "outputs": [
    {
     "data": {
      "text/html": [
       "<div>\n",
       "<style scoped>\n",
       "    .dataframe tbody tr th:only-of-type {\n",
       "        vertical-align: middle;\n",
       "    }\n",
       "\n",
       "    .dataframe tbody tr th {\n",
       "        vertical-align: top;\n",
       "    }\n",
       "\n",
       "    .dataframe thead th {\n",
       "        text-align: right;\n",
       "    }\n",
       "</style>\n",
       "<table border=\"1\" class=\"dataframe\">\n",
       "  <thead>\n",
       "    <tr style=\"text-align: right;\">\n",
       "      <th></th>\n",
       "      <th>y</th>\n",
       "      <th>x</th>\n",
       "      <th>mass</th>\n",
       "      <th>size</th>\n",
       "      <th>ecc</th>\n",
       "      <th>signal</th>\n",
       "      <th>raw_mass</th>\n",
       "      <th>ep</th>\n",
       "      <th>frame</th>\n",
       "      <th>particle</th>\n",
       "    </tr>\n",
       "  </thead>\n",
       "  <tbody>\n",
       "    <tr>\n",
       "      <th>0</th>\n",
       "      <td>5.732875</td>\n",
       "      <td>88.765092</td>\n",
       "      <td>540.737228</td>\n",
       "      <td>1.836021</td>\n",
       "      <td>0.053995</td>\n",
       "      <td>43.130433</td>\n",
       "      <td>6126.9058</td>\n",
       "      <td>0.238771</td>\n",
       "      <td>0</td>\n",
       "      <td>0</td>\n",
       "    </tr>\n",
       "    <tr>\n",
       "      <th>29</th>\n",
       "      <td>5.763265</td>\n",
       "      <td>88.753532</td>\n",
       "      <td>558.930869</td>\n",
       "      <td>1.827661</td>\n",
       "      <td>0.051850</td>\n",
       "      <td>44.749567</td>\n",
       "      <td>6179.3734</td>\n",
       "      <td>0.234221</td>\n",
       "      <td>1</td>\n",
       "      <td>0</td>\n",
       "    </tr>\n",
       "    <tr>\n",
       "      <th>57</th>\n",
       "      <td>5.734891</td>\n",
       "      <td>88.775078</td>\n",
       "      <td>570.332669</td>\n",
       "      <td>1.833999</td>\n",
       "      <td>0.051747</td>\n",
       "      <td>45.306801</td>\n",
       "      <td>6227.1750</td>\n",
       "      <td>0.213317</td>\n",
       "      <td>2</td>\n",
       "      <td>0</td>\n",
       "    </tr>\n",
       "    <tr>\n",
       "      <th>88</th>\n",
       "      <td>5.719938</td>\n",
       "      <td>88.760433</td>\n",
       "      <td>597.979796</td>\n",
       "      <td>1.840217</td>\n",
       "      <td>0.050954</td>\n",
       "      <td>47.135965</td>\n",
       "      <td>6283.9417</td>\n",
       "      <td>0.196095</td>\n",
       "      <td>3</td>\n",
       "      <td>0</td>\n",
       "    </tr>\n",
       "    <tr>\n",
       "      <th>119</th>\n",
       "      <td>5.741995</td>\n",
       "      <td>88.746921</td>\n",
       "      <td>588.262720</td>\n",
       "      <td>1.841302</td>\n",
       "      <td>0.045192</td>\n",
       "      <td>46.003304</td>\n",
       "      <td>6246.4903</td>\n",
       "      <td>0.210106</td>\n",
       "      <td>4</td>\n",
       "      <td>0</td>\n",
       "    </tr>\n",
       "  </tbody>\n",
       "</table>\n",
       "</div>"
      ],
      "text/plain": [
       "            y          x        mass      size       ecc     signal  \\\n",
       "0    5.732875  88.765092  540.737228  1.836021  0.053995  43.130433   \n",
       "29   5.763265  88.753532  558.930869  1.827661  0.051850  44.749567   \n",
       "57   5.734891  88.775078  570.332669  1.833999  0.051747  45.306801   \n",
       "88   5.719938  88.760433  597.979796  1.840217  0.050954  47.135965   \n",
       "119  5.741995  88.746921  588.262720  1.841302  0.045192  46.003304   \n",
       "\n",
       "      raw_mass        ep  frame  particle  \n",
       "0    6126.9058  0.238771      0         0  \n",
       "29   6179.3734  0.234221      1         0  \n",
       "57   6227.1750  0.213317      2         0  \n",
       "88   6283.9417  0.196095      3         0  \n",
       "119  6246.4903  0.210106      4         0  "
      ]
     },
     "execution_count": 20,
     "metadata": {},
     "output_type": "execute_result"
    }
   ],
   "source": [
    "tab_0.head()"
   ]
  },
  {
   "cell_type": "code",
   "execution_count": 21,
   "id": "be6272fa",
   "metadata": {},
   "outputs": [
    {
     "data": {
      "text/plain": [
       "Text(0.5, 1.0, 'raw_mass histogram')"
      ]
     },
     "execution_count": 21,
     "metadata": {},
     "output_type": "execute_result"
    },
    {
     "data": {
      "image/png": "[encoded data removed]",
      "text/plain": [
       "<Figure size 432x288 with 1 Axes>"
      ]
     },
     "metadata": {
      "needs_background": "light"
     },
     "output_type": "display_data"
    }
   ],
   "source": [
    "col_name = \"raw_mass\"\n",
    "\n",
    "plt.figure()\n",
    "_ = plt.hist(tab_0[col_name], bins=30)\n",
    "plt.title(\"%s histogram\"%col_name)"
   ]
  },
  {
   "cell_type": "code",
   "execution_count": null,
   "id": "e5efdb8e",
   "metadata": {},
   "outputs": [],
   "source": [
    "   "
   ]
  }
 ],
 "metadata": {
  "kernelspec": {
   "display_name": "Python 3 (ipykernel)",
   "language": "python",
   "name": "python3"
  },
  "language_info": {
   "codemirror_mode": {
    "name": "ipython",
    "version": 3
   },
   "file_extension": ".py",
   "mimetype": "text/x-python",
   "name": "python",
   "nbconvert_exporter": "python",
   "pygments_lexer": "ipython3",
   "version": "3.9.5"
  }
 },
 "nbformat": 4,
 "nbformat_minor": 5
}
