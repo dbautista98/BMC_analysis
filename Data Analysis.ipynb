{
 "cells": [
  {
   "cell_type": "code",
   "execution_count": 119,
   "id": "9c9fc7ab",
   "metadata": {},
   "outputs": [
    {
     "name": "stdout",
     "output_type": "stream",
     "text": [
      "Collecting astropy\n",
      "  Downloading astropy-4.3.1-cp39-cp39-manylinux_2_12_x86_64.manylinux2010_x86_64.whl (10.8 MB)\n",
      "\u001b[K     |████████████████████████████████| 10.8 MB 8.0 MB/s eta 0:00:01\n",
      "\u001b[?25hRequirement already satisfied: numpy>=1.17 in /home/crforrester/miniconda3/lib/python3.9/site-packages (from astropy) (1.21.3)\n",
      "Collecting pyerfa>=1.7.3\n",
      "  Downloading pyerfa-2.0.0-cp39-cp39-manylinux2010_x86_64.whl (742 kB)\n",
      "\u001b[K     |████████████████████████████████| 742 kB 50.2 MB/s eta 0:00:01\n",
      "\u001b[?25hInstalling collected packages: pyerfa, astropy\n",
      "Successfully installed astropy-4.3.1 pyerfa-2.0.0\n"
     ]
    }
   ],
   "source": [
    "!pip install astropy"
   ]
  },
  {
   "cell_type": "code",
   "execution_count": 136,
   "id": "3c27fdd6",
   "metadata": {},
   "outputs": [],
   "source": [
    "import glob\n",
    "import pims\n",
    "import trackpy as tp\n",
    "import numpy as np\n",
    "import pandas as pd\n",
    "import matplotlib.pyplot as plt\n",
    "import astropy.constants as c\n",
    "import astropy.units as u"
   ]
  },
  {
   "cell_type": "markdown",
   "id": "5793a3eb",
   "metadata": {},
   "source": [
    "# Bead Data"
   ]
  },
  {
   "cell_type": "code",
   "execution_count": 121,
   "id": "ad5ad286",
   "metadata": {},
   "outputs": [],
   "source": [
    "def bead_path(viscosity, solute, size, magnification):\n",
    "    path = \"../data/beads/%s_visc_%s_%s_um-%s*\"%(viscosity, solute, size, magnification)\n",
    "    return glob.glob(path)"
   ]
  },
  {
   "cell_type": "code",
   "execution_count": 122,
   "id": "4bc67f31",
   "metadata": {},
   "outputs": [
    {
     "data": {
      "text/plain": [
       "['../data/beads/13.2_visc_PVP_0.4_um-40x',\n",
       " '../data/beads/13.2_visc_PVP_0.4_um-40x-2']"
      ]
     },
     "execution_count": 122,
     "metadata": {},
     "output_type": "execute_result"
    }
   ],
   "source": [
    "bead_path(\"13.2\", \"PVP\", \"0.4\", \"40\")"
   ]
  },
  {
   "cell_type": "markdown",
   "id": "bc9ecace",
   "metadata": {},
   "source": [
    "# Onion Data"
   ]
  },
  {
   "cell_type": "code",
   "execution_count": 123,
   "id": "f6df6e1a",
   "metadata": {},
   "outputs": [],
   "source": [
    "onion_both = \"../data/onion_1/Onion-cytoplasm-20x-3/*.bmp\"\n",
    "onion_tri = \"../data/onion_2/Onion_bulk_20x/*.bmp\""
   ]
  },
  {
   "cell_type": "markdown",
   "id": "b3680a30",
   "metadata": {},
   "source": [
    "# Velo"
   ]
  },
  {
   "cell_type": "code",
   "execution_count": 124,
   "id": "ecdcba92",
   "metadata": {},
   "outputs": [
    {
     "name": "stdout",
     "output_type": "stream",
     "text": [
      "Frame 357: 25 trajectories present.\n"
     ]
    },
    {
     "data": {
      "text/html": [
       "<div>\n",
       "<style scoped>\n",
       "    .dataframe tbody tr th:only-of-type {\n",
       "        vertical-align: middle;\n",
       "    }\n",
       "\n",
       "    .dataframe tbody tr th {\n",
       "        vertical-align: top;\n",
       "    }\n",
       "\n",
       "    .dataframe thead th {\n",
       "        text-align: right;\n",
       "    }\n",
       "</style>\n",
       "<table border=\"1\" class=\"dataframe\">\n",
       "  <thead>\n",
       "    <tr style=\"text-align: right;\">\n",
       "      <th></th>\n",
       "      <th>y</th>\n",
       "      <th>x</th>\n",
       "      <th>mass</th>\n",
       "      <th>size</th>\n",
       "      <th>ecc</th>\n",
       "      <th>signal</th>\n",
       "      <th>raw_mass</th>\n",
       "      <th>ep</th>\n",
       "      <th>frame</th>\n",
       "      <th>particle</th>\n",
       "    </tr>\n",
       "  </thead>\n",
       "  <tbody>\n",
       "    <tr>\n",
       "      <th>0</th>\n",
       "      <td>5.732875</td>\n",
       "      <td>88.765092</td>\n",
       "      <td>540.737228</td>\n",
       "      <td>1.836021</td>\n",
       "      <td>0.053995</td>\n",
       "      <td>43.130433</td>\n",
       "      <td>6126.9058</td>\n",
       "      <td>0.238771</td>\n",
       "      <td>0</td>\n",
       "      <td>0</td>\n",
       "    </tr>\n",
       "    <tr>\n",
       "      <th>28</th>\n",
       "      <td>185.119352</td>\n",
       "      <td>22.603581</td>\n",
       "      <td>198.399990</td>\n",
       "      <td>1.769063</td>\n",
       "      <td>0.159411</td>\n",
       "      <td>14.715089</td>\n",
       "      <td>8003.8252</td>\n",
       "      <td>0.080846</td>\n",
       "      <td>0</td>\n",
       "      <td>1</td>\n",
       "    </tr>\n",
       "    <tr>\n",
       "      <th>27</th>\n",
       "      <td>158.047079</td>\n",
       "      <td>7.898940</td>\n",
       "      <td>686.196727</td>\n",
       "      <td>2.422117</td>\n",
       "      <td>0.334792</td>\n",
       "      <td>33.320373</td>\n",
       "      <td>10250.5033</td>\n",
       "      <td>0.045122</td>\n",
       "      <td>0</td>\n",
       "      <td>2</td>\n",
       "    </tr>\n",
       "    <tr>\n",
       "      <th>26</th>\n",
       "      <td>152.168783</td>\n",
       "      <td>193.426438</td>\n",
       "      <td>226.477056</td>\n",
       "      <td>1.991955</td>\n",
       "      <td>0.076918</td>\n",
       "      <td>15.560784</td>\n",
       "      <td>5504.4689</td>\n",
       "      <td>0.677942</td>\n",
       "      <td>0</td>\n",
       "      <td>3</td>\n",
       "    </tr>\n",
       "    <tr>\n",
       "      <th>25</th>\n",
       "      <td>152.198118</td>\n",
       "      <td>28.536404</td>\n",
       "      <td>341.491543</td>\n",
       "      <td>2.226189</td>\n",
       "      <td>0.285273</td>\n",
       "      <td>20.634952</td>\n",
       "      <td>7043.6835</td>\n",
       "      <td>0.122188</td>\n",
       "      <td>0</td>\n",
       "      <td>4</td>\n",
       "    </tr>\n",
       "  </tbody>\n",
       "</table>\n",
       "</div>"
      ],
      "text/plain": [
       "             y           x        mass      size       ecc     signal  \\\n",
       "0     5.732875   88.765092  540.737228  1.836021  0.053995  43.130433   \n",
       "28  185.119352   22.603581  198.399990  1.769063  0.159411  14.715089   \n",
       "27  158.047079    7.898940  686.196727  2.422117  0.334792  33.320373   \n",
       "26  152.168783  193.426438  226.477056  1.991955  0.076918  15.560784   \n",
       "25  152.198118   28.536404  341.491543  2.226189  0.285273  20.634952   \n",
       "\n",
       "      raw_mass        ep  frame  particle  \n",
       "0    6126.9058  0.238771      0         0  \n",
       "28   8003.8252  0.080846      0         1  \n",
       "27  10250.5033  0.045122      0         2  \n",
       "26   5504.4689  0.677942      0         3  \n",
       "25   7043.6835  0.122188      0         4  "
      ]
     },
     "execution_count": 124,
     "metadata": {},
     "output_type": "execute_result"
    }
   ],
   "source": [
    "test_path = onion_tri\n",
    "test_frames = pims.as_gray(pims.open(test_path))\n",
    "\n",
    "test_f = tp.batch(test_frames, diameter=9, minmass=132, maxsize=3)\n",
    "test_t = tp.link(f, search_range=10, memory=3)\n",
    "test_t.head()"
   ]
  },
  {
   "cell_type": "code",
   "execution_count": 125,
   "id": "6038d047",
   "metadata": {},
   "outputs": [],
   "source": [
    "particle = 0\n",
    "particle_test_tab = t[t[\"particle\"] == particle]"
   ]
  },
  {
   "cell_type": "code",
   "execution_count": 126,
   "id": "556b5081",
   "metadata": {},
   "outputs": [],
   "source": [
    "test_x_disp = np.diff(particle_test_tab['x'].values)\n",
    "test_y_disp = np.diff(particle_test_tab['y'].values)\n",
    "test_r_disp = np.sqrt(x_disp**2 + y_disp**2)"
   ]
  },
  {
   "cell_type": "code",
   "execution_count": 127,
   "id": "50ffabd0",
   "metadata": {},
   "outputs": [],
   "source": [
    "test_fps = 24\n",
    "test_px_conv = 0.39625"
   ]
  },
  {
   "cell_type": "code",
   "execution_count": 128,
   "id": "3ba4b619",
   "metadata": {},
   "outputs": [],
   "source": [
    "test_velo = r_disp * fps / px_conv"
   ]
  },
  {
   "cell_type": "code",
   "execution_count": 129,
   "id": "2fc2bc94",
   "metadata": {},
   "outputs": [
    {
     "data": {
      "text/plain": [
       "28.329906471241305"
      ]
     },
     "execution_count": 129,
     "metadata": {},
     "output_type": "execute_result"
    }
   ],
   "source": [
    "np.mean(test_velo)"
   ]
  },
  {
   "cell_type": "code",
   "execution_count": 130,
   "id": "1a3c10f2",
   "metadata": {},
   "outputs": [
    {
     "data": {
      "text/plain": [
       "94.72677149668681"
      ]
     },
     "execution_count": 130,
     "metadata": {},
     "output_type": "execute_result"
    }
   ],
   "source": [
    "np.std(test_velo)"
   ]
  },
  {
   "cell_type": "code",
   "execution_count": 131,
   "id": "c27edf6a",
   "metadata": {},
   "outputs": [
    {
     "data": {
      "image/png": "[encoded data removed]",
      "text/plain": [
       "<Figure size 432x288 with 1 Axes>"
      ]
     },
     "metadata": {
      "needs_background": "light"
     },
     "output_type": "display_data"
    }
   ],
   "source": [
    "_=plt.hist(test_velo, bins=np.linspace(0,15))"
   ]
  },
  {
   "cell_type": "code",
   "execution_count": 132,
   "id": "ef389bb3",
   "metadata": {},
   "outputs": [
    {
     "name": "stdout",
     "output_type": "stream",
     "text": [
      "Frame 357: 25 trajectories present.\n"
     ]
    }
   ],
   "source": [
    "def particle_tab(path, particle_index=0, diameter=11, minmass=250, maxsize=3):\n",
    "    frames = pims.as_gray(pims.open(path))\n",
    "    f = tp.batch(frames, diameter=diameter, minmass=minmass, maxsize=maxsize)\n",
    "    t = tp.link(f, search_range=10, memory=3)\n",
    "    particle_tab = t[t[\"particle\"] == particle_index]\n",
    "    return particle_tab\n",
    "\n",
    "tab_0 = particle_tab(onion_tri, 0, 9, 132, 3)"
   ]
  },
  {
   "cell_type": "code",
   "execution_count": 133,
   "id": "7684a401",
   "metadata": {},
   "outputs": [
    {
     "data": {
      "text/plain": [
       "(28.329906471241305, 94.72677149668681)"
      ]
     },
     "execution_count": 133,
     "metadata": {},
     "output_type": "execute_result"
    }
   ],
   "source": [
    "def particle_velo(table, px, fps):\n",
    "    \"\"\"returns average velocity in microns per second\"\"\"\n",
    "    x_disp = np.diff(table['x'].values)\n",
    "    y_disp = np.diff(table['y'].values)\n",
    "    r_disp = np.sqrt(x_disp**2 + y_disp**2)\n",
    "    velo = r_disp * fps / px\n",
    "    return np.mean(velo), np.std(velo)\n",
    "\n",
    "particle_velo(tab_0, 0.39625, 24)"
   ]
  },
  {
   "cell_type": "code",
   "execution_count": 134,
   "id": "1bb5cd6b",
   "metadata": {},
   "outputs": [
    {
     "name": "stderr",
     "output_type": "stream",
     "text": [
      "/home/crforrester/miniconda3/lib/python3.9/site-packages/trackpy/motion.py:235: FutureWarning: Using the level keyword in DataFrame and Series aggregations is deprecated and will be removed in a future version. Use groupby instead. df.median(level=1) should use df.groupby(level=1).median().\n",
      "  results = msds.mul(msds['N'], axis=0).mean(level=1)  # weighted average\n",
      "/home/crforrester/miniconda3/lib/python3.9/site-packages/trackpy/motion.py:236: FutureWarning: Using the level keyword in DataFrame and Series aggregations is deprecated and will be removed in a future version. Use groupby instead. df.median(level=1) should use df.groupby(level=1).median().\n",
      "  results = results.div(msds['N'].mean(level=1), axis=0)  # weights normalized\n"
     ]
    }
   ],
   "source": [
    "def diff_coeff(table, px, fps):\n",
    "    t_filter = tp.filter_stubs(table, threshold=25)\n",
    "    d = tp.compute_drift(t_filter)\n",
    "    tm = tp.subtract_drift(t_filter.copy(), d)\n",
    "    em = tp.emsd(tm, px, fps)\n",
    "    fits = tp.utils.fit_powerlaw(em, plot=False)\n",
    "    return fits[\"A\"][0]/4\n",
    "\n",
    "onion_coeff = diff_coeff(tab_0, 0.39625, 24)"
   ]
  },
  {
   "cell_type": "code",
   "execution_count": 145,
   "id": "56326543",
   "metadata": {},
   "outputs": [],
   "source": [
    "def visc(r, D):\n",
    "    kT = c.k_B*300*u.K\n",
    "    D = D*(u.um**2 / u.s)\n",
    "    r = r*(u.um)\n",
    "    return (kT / (6*np.pi*D*r)).to(u.mPa * u.s)"
   ]
  },
  {
   "cell_type": "code",
   "execution_count": null,
   "id": "58fa69d8",
   "metadata": {},
   "outputs": [],
   "source": []
  }
 ],
 "metadata": {
  "kernelspec": {
   "display_name": "Python 3 (ipykernel)",
   "language": "python",
   "name": "python3"
  },
  "language_info": {
   "codemirror_mode": {
    "name": "ipython",
    "version": 3
   },
   "file_extension": ".py",
   "mimetype": "text/x-python",
   "name": "python",
   "nbconvert_exporter": "python",
   "pygments_lexer": "ipython3",
   "version": "3.9.5"
  }
 },
 "nbformat": 4,
 "nbformat_minor": 5
}
