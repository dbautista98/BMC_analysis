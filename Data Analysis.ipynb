{
 "cells": [
  {
   "cell_type": "code",
   "execution_count": 1,
   "id": "6208bde5",
   "metadata": {},
   "outputs": [],
   "source": [
    "import glob"
   ]
  },
  {
   "cell_type": "markdown",
   "id": "b8126f79",
   "metadata": {},
   "source": [
    "# Bead Data"
   ]
  },
  {
   "cell_type": "code",
   "execution_count": 8,
   "id": "b076de24",
   "metadata": {},
   "outputs": [],
   "source": [
    "def bead_path(viscosity, solute, size, magnification):\n",
    "    path = \"../data/beads/%s_visc_%s_%s_um-%s*\"%(viscosity, solute, size, magnification)\n",
    "    return glob.glob(path)"
   ]
  },
  {
   "cell_type": "code",
   "execution_count": 11,
   "id": "e4155eb9",
   "metadata": {},
   "outputs": [
    {
     "data": {
      "text/plain": [
       "['../data/beads/13.2_visc_PVP_0.4_um-40x',\n",
       " '../data/beads/13.2_visc_PVP_0.4_um-40x-2']"
      ]
     },
     "execution_count": 11,
     "metadata": {},
     "output_type": "execute_result"
    }
   ],
   "source": [
    "bead_path(\"13.2\", \"PVP\", \"0.4\", \"40\")"
   ]
  },
  {
   "cell_type": "markdown",
   "id": "c0825359",
   "metadata": {},
   "source": [
    "# Onion Data"
   ]
  },
  {
   "cell_type": "code",
   "execution_count": 10,
   "id": "849f2ccd",
   "metadata": {},
   "outputs": [],
   "source": [
    "onion_both = \"../data/onion_1/Onion-cytoplasm-20x-3/*.bmp\"\n",
    "onion_tri = \"../data/onion_2/Onion_bulk_20x/*.bmp\""
   ]
  },
  {
   "cell_type": "code",
   "execution_count": null,
   "id": "4dd5fc50",
   "metadata": {},
   "outputs": [],
   "source": []
  }
 ],
 "metadata": {
  "kernelspec": {
   "display_name": "Python 3 (ipykernel)",
   "language": "python",
   "name": "python3"
  },
  "language_info": {
   "codemirror_mode": {
    "name": "ipython",
    "version": 3
   },
   "file_extension": ".py",
   "mimetype": "text/x-python",
   "name": "python",
   "nbconvert_exporter": "python",
   "pygments_lexer": "ipython3",
   "version": "3.9.5"
  }
 },
 "nbformat": 4,
 "nbformat_minor": 5
}
