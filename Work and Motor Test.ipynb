{
 "cells": [
  {
   "cell_type": "code",
   "execution_count": 48,
   "id": "c891e156",
   "metadata": {},
   "outputs": [],
   "source": [
    "import trackpy as tp \n",
    "import pims\n",
    "import glob\n",
    "import numpy\n",
    "import matplotlib.pyplot as plt\n",
    "import numpy as np\n",
    "import pandas as pd\n",
    "import cv2\n",
    "import bmc\n",
    "from tqdm import trange\n",
    "import astropy.units as u\n",
    "import astropy.constants as c"
   ]
  },
  {
   "cell_type": "code",
   "execution_count": 18,
   "id": "426c9e4c",
   "metadata": {},
   "outputs": [],
   "source": [
    "x10 = 9.51/13\n",
    "x20 = 9.51/24\n",
    "x40 = 9.51/57\n",
    "fps = 30"
   ]
  },
  {
   "cell_type": "code",
   "execution_count": 157,
   "id": "819d7342",
   "metadata": {},
   "outputs": [],
   "source": [
    "def onion_path(onion, flow):\n",
    "    path = \"../data/onion_%s/Onion_%s_20x*\"%(onion, flow)\n",
    "    return glob.glob(path)\n",
    "\n",
    "folder_paths = glob.glob(\"../data/onion_4/*\")\n",
    "onion_4 = onion_path(\"4\", \"bulk\")\n",
    "\n",
    "def all_velocity(t):\n",
    "    all_vel = np.array([])\n",
    "    for i in np.unique(t[\"particle\"]):\n",
    "        all_vel = np.append(all_vel, np.mean(bmc.particle_velocity(t, i, x20, fps)[0]))\n",
    "    return all_vel\n",
    "\n",
    "def all_viscosity(t):\n",
    "    all_visc = np.array([])\n",
    "    for i in np.unique(t[\"particle\"]):\n",
    "        all_visc = np.append(all_visc, np.mean(bmc.viscosity(t, i, x20, fps)))\n",
    "    return all_visc\n",
    "\n",
    "def radius(t):\n",
    "    R_gyration = t[\"size\"].values\n",
    "    mean_R_gyration = np.mean(R_gyration)\n",
    "    r = np.sqrt(5/3 * mean_R_gyration**2)\n",
    "    return r\n",
    "\n",
    "def all_velocity_threshold(t, threshold):\n",
    "    all_vel = np.array([])\n",
    "    x_vel = np.array([])\n",
    "    y_vel = np.array([])\n",
    "    for i in np.unique(t[\"particle\"]):\n",
    "#         mean_dx = np.append(mean_dx, np.mean(np.diff(t[\"x\"])))\n",
    "#         mean_dy = np.append(mean_dy, np.mean(np.diff(t[\"y\"])))\n",
    "        df = t[t[\"particle\"]==i]\n",
    "        dx = np.diff(df[\"x\"])\n",
    "        dy = np.diff(df[\"y\"])\n",
    "        disp = np.sum(np.sqrt(dx**2 + dx**2))\n",
    "        if disp > threshold:\n",
    "            mag, x, y = bmc.particle_velocity(t, i, x20, fps)\n",
    "            all_vel = np.append(all_vel, np.mean(mag))\n",
    "            x_vel = np.append(x_vel, np.mean(x))\n",
    "            y_vel = np.append(y_vel, np.mean(y))\n",
    "    return all_vel, x_vel, y_vel"
   ]
  },
  {
   "cell_type": "code",
   "execution_count": 23,
   "id": "a75e5ae0",
   "metadata": {},
   "outputs": [
    {
     "name": "stdout",
     "output_type": "stream",
     "text": [
      "Frame 443: 5 trajectories present.\n"
     ]
    }
   ],
   "source": [
    "all_velocities = np.array([])\n",
    "all_viscosities= np.array([])\n",
    "all_radii = np.array([])\n",
    "for folder in folder_paths:\n",
    "    path = folder + \"/*.bmp\"\n",
    "    f = bmc.annotate(path, show=False, diameter=11, minmass=10)#, crop=((0,26), (27,0)))\n",
    "    t = bmc.get_trajectories(f, show=False, diameter=11, minmass=10, search_range=6, clip_stubs=25)\n",
    "    all_velocities = np.append(all_velocities, all_velocity(t))\n",
    "    all_viscosities= np.append(all_viscosities, all_viscosity(t))\n",
    "    all_radii = np.append(all_radii, radius(t))"
   ]
  },
  {
   "cell_type": "code",
   "execution_count": 24,
   "id": "c96a9dcb",
   "metadata": {},
   "outputs": [
    {
     "data": {
      "text/plain": [
       "20.459274041856432"
      ]
     },
     "execution_count": 24,
     "metadata": {},
     "output_type": "execute_result"
    },
    {
     "data": {
      "image/png": "[encoded data removed]",
      "text/plain": [
       "<Figure size 432x288 with 1 Axes>"
      ]
     },
     "metadata": {
      "needs_background": "light"
     },
     "output_type": "display_data"
    }
   ],
   "source": [
    "plt.figure()\n",
    "cnts,_,_ = plt.hist(all_velocities, bins=40, log=0)#, bins=np.linspace(0,13))\n",
    "plt.xlabel(\"velocity [um/s]\");\n",
    "velo = np.mean(all_velocities)\n",
    "velo"
   ]
  },
  {
   "cell_type": "code",
   "execution_count": 124,
   "id": "49f4ef04",
   "metadata": {},
   "outputs": [
    {
     "data": {
      "text/plain": [
       "6.424444048487947"
      ]
     },
     "execution_count": 124,
     "metadata": {},
     "output_type": "execute_result"
    },
    {
     "data": {
      "image/png": "[encoded data removed]",
      "text/plain": [
       "<Figure size 432x288 with 1 Axes>"
      ]
     },
     "metadata": {
      "needs_background": "light"
     },
     "output_type": "display_data"
    }
   ],
   "source": [
    "plt.figure()\n",
    "cnts,_,_ = plt.hist(all_viscosities, bins=np.linspace(0,100, 100), density=1)#, bins=np.linspace(0,13))\n",
    "plt.xlabel(\"viscosity [mPa s]\");\n",
    "visc = np.mean(all_viscosities)\n",
    "visc"
   ]
  },
  {
   "cell_type": "code",
   "execution_count": 118,
   "id": "3e012863",
   "metadata": {},
   "outputs": [
    {
     "data": {
      "text/plain": [
       "2.9221559326046473"
      ]
     },
     "execution_count": 118,
     "metadata": {},
     "output_type": "execute_result"
    },
    {
     "data": {
      "image/png": "[encoded data removed]",
      "text/plain": [
       "<Figure size 432x288 with 1 Axes>"
      ]
     },
     "metadata": {
      "needs_background": "light"
     },
     "output_type": "display_data"
    }
   ],
   "source": [
    "plt.figure()\n",
    "cnts,_,_ = plt.hist(all_radii, bins=np.linspace(2.5, 3.2, 8))#, bins=np.linspace(0,13))\n",
    "plt.xlabel(\"radius [um]\");\n",
    "radii = np.mean(all_radii)\n",
    "radii"
   ]
  },
  {
   "cell_type": "code",
   "execution_count": 131,
   "id": "51e52dac",
   "metadata": {},
   "outputs": [],
   "source": [
    "def work(velocity, viscosity, radius, x):\n",
    "    v = velocity\n",
    "    n = viscosity\n",
    "    r = radius\n",
    "    #x = 200 #units um\n",
    "    return 3*np.pi*n*r*v*x\n",
    "\n",
    "x_test = np.linspace(10,400,1000)\n",
    "total_work = work(velo, visc, radii, x_test)\n",
    "#total_work"
   ]
  },
  {
   "cell_type": "code",
   "execution_count": 141,
   "id": "4e7afc96",
   "metadata": {},
   "outputs": [],
   "source": [
    "def motors(work):\n",
    "    free_e = 57.5 * 1000 #* 6.0221409e+23\n",
    "    return np.ceil(work / free_e)\n",
    "\n",
    "#motors(total_work)"
   ]
  },
  {
   "cell_type": "code",
   "execution_count": 133,
   "id": "9f50ec2e",
   "metadata": {},
   "outputs": [
    {
     "data": {
      "text/plain": [
       "[<matplotlib.lines.Line2D at 0x7fbfe5316eb0>]"
      ]
     },
     "execution_count": 133,
     "metadata": {},
     "output_type": "execute_result"
    },
    {
     "data": {
      "image/png": "[encoded data removed]",
      "text/plain": [
       "<Figure size 576x432 with 1 Axes>"
      ]
     },
     "metadata": {
      "needs_background": "light"
     },
     "output_type": "display_data"
    }
   ],
   "source": [
    "plt.figure(figsize=(8,6))\n",
    "plt.grid()\n",
    "plt.plot(x_test, motors(total_work))"
   ]
  },
  {
   "cell_type": "markdown",
   "id": "97f4cdc0",
   "metadata": {},
   "source": [
    "# Good Data"
   ]
  },
  {
   "cell_type": "code",
   "execution_count": 112,
   "id": "84dbe02f",
   "metadata": {},
   "outputs": [],
   "source": [
    "good_traj = [\"Onion_bulk_20x-13\", \"Onion_bulk_20x-17\", \"Onion_bulk_20x-18\", \"Onion_bulk_20x-19\",\n",
    "             \"Onion_bulk_20x-21\", \"Onion_bulk_20x-24\", \"Onion_bulk_20x-25\", \"Onion_bulk_20x-26\",\n",
    "             \"Onion_bulk_20x-28\"]\n",
    "\n",
    "brownian = [\"Onion_bulk_20x-6\", \"Onion_bulk_20x-16\", \"Onion_bulk_20x-27\", \"Onion_bulk_20x-29\"]\n",
    "\n",
    "both = [\"Onion_bulk_20x-13\", \"Onion_bulk_20x-17\", \"Onion_bulk_20x-18\", \"Onion_bulk_20x-19\",\n",
    "             \"Onion_bulk_20x-21\", \"Onion_bulk_20x-24\", \"Onion_bulk_20x-25\", \"Onion_bulk_20x-26\",\n",
    "             \"Onion_bulk_20x-28\", \"Onion_bulk_20x-6\", \"Onion_bulk_20x-16\", \"Onion_bulk_20x-27\", \"Onion_bulk_20x-29\"]"
   ]
  },
  {
   "cell_type": "code",
   "execution_count": 115,
   "id": "1c992807",
   "metadata": {},
   "outputs": [
    {
     "name": "stdout",
     "output_type": "stream",
     "text": [
      "Frame 250: 13 trajectories present.\n"
     ]
    }
   ],
   "source": [
    "avg_rad = np.array([])\n",
    "for folder in both:\n",
    "    path = \"../data/onion_4/\" + folder + \"/*bmp\"\n",
    "    f = bmc.annotate(path, show=False, diameter=11, minmass=10)#, crop=((0,26), (27,0)))\n",
    "    t = bmc.get_trajectories(f, show=False, diameter=11, minmass=10, search_range=6, clip_stubs=25)\n",
    "    avg_rad = np.append(avg_rad, radius(t))"
   ]
  },
  {
   "cell_type": "code",
   "execution_count": 153,
   "id": "ecde9438",
   "metadata": {},
   "outputs": [
    {
     "data": {
      "text/plain": [
       "2.8957357607321907"
      ]
     },
     "execution_count": 153,
     "metadata": {},
     "output_type": "execute_result"
    }
   ],
   "source": [
    "rad = np.mean(avg_rad)\n",
    "rad"
   ]
  },
  {
   "cell_type": "code",
   "execution_count": 147,
   "id": "7a25f7fd",
   "metadata": {},
   "outputs": [
    {
     "name": "stdout",
     "output_type": "stream",
     "text": [
      "Frame 250: 13 trajectories present.\n"
     ]
    }
   ],
   "source": [
    "good_visc = np.array([])\n",
    "for folder in brownian:\n",
    "    path = \"../data/onion_4/\" + folder + \"/*bmp\"\n",
    "    f = bmc.annotate(path, show=False, diameter=11, minmass=10)#, crop=((0,26), (27,0)))\n",
    "    t = bmc.get_trajectories(f, show=False, diameter=11, minmass=10, search_range=6, clip_stubs=25)\n",
    "    good_visc = np.append(good_visc, all_viscosity(t))"
   ]
  },
  {
   "cell_type": "code",
   "execution_count": 154,
   "id": "aad2787f",
   "metadata": {},
   "outputs": [
    {
     "data": {
      "text/plain": [
       "2.718379517298967"
      ]
     },
     "execution_count": 154,
     "metadata": {},
     "output_type": "execute_result"
    }
   ],
   "source": [
    "avg_visc = np.mean(good_visc)\n",
    "avg_visc"
   ]
  },
  {
   "cell_type": "code",
   "execution_count": 164,
   "id": "faabd43c",
   "metadata": {},
   "outputs": [
    {
     "name": "stdout",
     "output_type": "stream",
     "text": [
      "Frame 249: 13 trajectories present.\n"
     ]
    }
   ],
   "source": [
    "good_velo = np.array([])\n",
    "for folder in good_traj:\n",
    "    path = \"../data/onion_4/\" + folder + \"/*bmp\"\n",
    "    f = bmc.annotate(path, show=False, diameter=11, minmass=10)#, crop=((0,26), (27,0)))\n",
    "    t = bmc.get_trajectories(f, show=False, diameter=11, minmass=10, search_range=5, clip_stubs=25)\n",
    "    good_velo = np.append(good_velo, all_velocity_threshold(t, 5)[0])"
   ]
  },
  {
   "cell_type": "code",
   "execution_count": 165,
   "id": "74df1d90",
   "metadata": {},
   "outputs": [
    {
     "data": {
      "text/plain": [
       "8.076993125295626"
      ]
     },
     "execution_count": 165,
     "metadata": {},
     "output_type": "execute_result"
    }
   ],
   "source": [
    "avg_velo = np.mean(good_velo)\n",
    "np.std(good_velo)"
   ]
  },
  {
   "cell_type": "code",
   "execution_count": 168,
   "id": "7a7a7fbd",
   "metadata": {},
   "outputs": [],
   "source": [
    "good_work = work(avg_velo, avg_visc, rad, 200)"
   ]
  },
  {
   "cell_type": "code",
   "execution_count": 169,
   "id": "a1f80385",
   "metadata": {},
   "outputs": [
    {
     "data": {
      "text/plain": [
       "6.0"
      ]
     },
     "execution_count": 169,
     "metadata": {},
     "output_type": "execute_result"
    }
   ],
   "source": [
    "motors(good_work)"
   ]
  },
  {
   "cell_type": "code",
   "execution_count": 162,
   "id": "d0f28a69",
   "metadata": {},
   "outputs": [
    {
     "data": {
      "text/plain": [
       "[<matplotlib.lines.Line2D at 0x7fbfe5513580>]"
      ]
     },
     "execution_count": 162,
     "metadata": {},
     "output_type": "execute_result"
    },
    {
     "data": {
      "image/png": "[encoded data removed]",
      "text/plain": [
       "<Figure size 576x432 with 1 Axes>"
      ]
     },
     "metadata": {
      "needs_background": "light"
     },
     "output_type": "display_data"
    }
   ],
   "source": [
    "plt.figure(figsize=(8,6))\n",
    "plt.grid()\n",
    "plt.plot(x_test, motors(good_work))"
   ]
  },
  {
   "cell_type": "code",
   "execution_count": null,
   "id": "6e9b4a80",
   "metadata": {},
   "outputs": [],
   "source": []
  }
 ],
 "metadata": {
  "kernelspec": {
   "display_name": "Python 3 (ipykernel)",
   "language": "python",
   "name": "python3"
  },
  "language_info": {
   "codemirror_mode": {
    "name": "ipython",
    "version": 3
   },
   "file_extension": ".py",
   "mimetype": "text/x-python",
   "name": "python",
   "nbconvert_exporter": "python",
   "pygments_lexer": "ipython3",
   "version": "3.9.5"
  }
 },
 "nbformat": 4,
 "nbformat_minor": 5
}
