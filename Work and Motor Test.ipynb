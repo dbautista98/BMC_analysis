{
 "cells": [
  {
   "cell_type": "code",
   "execution_count": 48,
   "id": "736c121e",
   "metadata": {},
   "outputs": [],
   "source": [
    "import trackpy as tp \n",
    "import pims\n",
    "import glob\n",
    "import numpy\n",
    "import matplotlib.pyplot as plt\n",
    "import numpy as np\n",
    "import pandas as pd\n",
    "import cv2\n",
    "import bmc\n",
    "from tqdm import trange\n",
    "import astropy.units as u\n",
    "import astropy.constants as c"
   ]
  },
  {
   "cell_type": "code",
   "execution_count": 18,
   "id": "d1b9fb88",
   "metadata": {},
   "outputs": [],
   "source": [
    "x10 = 9.51/13\n",
    "x20 = 9.51/24\n",
    "x40 = 9.51/57\n",
    "fps = 30"
   ]
  },
  {
   "cell_type": "code",
   "execution_count": 21,
   "id": "13b90309",
   "metadata": {},
   "outputs": [],
   "source": [
    "def onion_path(onion, flow):\n",
    "    path = \"../data/onion_%s/Onion_%s_20x*\"%(onion, flow)\n",
    "    return glob.glob(path)\n",
    "\n",
    "folder_paths = glob.glob(\"../data/onion_4/*\")\n",
    "onion_4 = onion_path(\"4\", \"bulk\")\n",
    "\n",
    "def all_velocity(t):\n",
    "    all_vel = np.array([])\n",
    "    for i in np.unique(t[\"particle\"]):\n",
    "        all_vel = np.append(all_vel, np.mean(bmc.particle_velocity(t, i, x20, fps)[0]))\n",
    "    return all_vel\n",
    "\n",
    "def all_viscosity(t):\n",
    "    all_visc = np.array([])\n",
    "    for i in np.unique(t[\"particle\"]):\n",
    "        all_visc = np.append(all_visc, np.mean(bmc.viscosity(t, i, x20, fps)))\n",
    "    return all_visc\n",
    "\n",
    "def radius(t):\n",
    "    R_gyration = t[\"size\"].values\n",
    "    mean_R_gyration = np.mean(R_gyration)\n",
    "    r = np.sqrt(5/3 * mean_R_gyration**2)\n",
    "    return r"
   ]
  },
  {
   "cell_type": "code",
   "execution_count": 23,
   "id": "677b3a96",
   "metadata": {},
   "outputs": [
    {
     "name": "stdout",
     "output_type": "stream",
     "text": [
      "Frame 443: 5 trajectories present.\n"
     ]
    }
   ],
   "source": [
    "all_velocities = np.array([])\n",
    "all_viscosities= np.array([])\n",
    "all_radii = np.array([])\n",
    "for folder in folder_paths:\n",
    "    path = folder + \"/*.bmp\"\n",
    "    f = bmc.annotate(path, show=False, diameter=11, minmass=10)#, crop=((0,26), (27,0)))\n",
    "    t = bmc.get_trajectories(f, show=False, diameter=11, minmass=10, search_range=6, clip_stubs=25)\n",
    "    all_velocities = np.append(all_velocities, all_velocity(t))\n",
    "    all_viscosities= np.append(all_viscosities, all_viscosity(t))\n",
    "    all_radii = np.append(all_radii, radius(t))"
   ]
  },
  {
   "cell_type": "code",
   "execution_count": 24,
   "id": "4839fffa",
   "metadata": {},
   "outputs": [
    {
     "data": {
      "text/plain": [
       "20.459274041856432"
      ]
     },
     "execution_count": 24,
     "metadata": {},
     "output_type": "execute_result"
    },
    {
     "data": {
      "image/png": "[encoded data removed]",
      "text/plain": [
       "<Figure size 432x288 with 1 Axes>"
      ]
     },
     "metadata": {
      "needs_background": "light"
     },
     "output_type": "display_data"
    }
   ],
   "source": [
    "plt.figure()\n",
    "cnts,_,_ = plt.hist(all_velocities, bins=40, log=0)#, bins=np.linspace(0,13))\n",
    "plt.xlabel(\"velocity [um/s]\");\n",
    "velo = np.mean(all_velocities)\n",
    "velo"
   ]
  },
  {
   "cell_type": "code",
   "execution_count": 25,
   "id": "7cd2e2ca",
   "metadata": {},
   "outputs": [
    {
     "data": {
      "text/plain": [
       "6.424444048487947"
      ]
     },
     "execution_count": 25,
     "metadata": {},
     "output_type": "execute_result"
    },
    {
     "data": {
      "image/png": "[encoded data removed]",
      "text/plain": [
       "<Figure size 432x288 with 1 Axes>"
      ]
     },
     "metadata": {
      "needs_background": "light"
     },
     "output_type": "display_data"
    }
   ],
   "source": [
    "plt.figure()\n",
    "cnts,_,_ = plt.hist(all_viscosities, bins=np.linspace(0,100, 100), density=1)#, bins=np.linspace(0,13))\n",
    "plt.xlabel(\"viscosity [mPa s]\");\n",
    "visc = np.mean(all_viscosities)\n",
    "visc"
   ]
  },
  {
   "cell_type": "code",
   "execution_count": 41,
   "id": "501831fc",
   "metadata": {},
   "outputs": [
    {
     "data": {
      "text/plain": [
       "2.933235359518904"
      ]
     },
     "execution_count": 41,
     "metadata": {},
     "output_type": "execute_result"
    },
    {
     "data": {
      "image/png": "[encoded data removed]",
      "text/plain": [
       "<Figure size 432x288 with 1 Axes>"
      ]
     },
     "metadata": {
      "needs_background": "light"
     },
     "output_type": "display_data"
    }
   ],
   "source": [
    "plt.figure()\n",
    "cnts,_,_ = plt.hist(all_radii, bins=np.linspace(2.5, 3.2, 8))#, bins=np.linspace(0,13))\n",
    "plt.xlabel(\"radius [um]\");\n",
    "radii = np.mean(all_radii)\n",
    "radii"
   ]
  },
  {
   "cell_type": "code",
   "execution_count": 55,
   "id": "3510bb05",
   "metadata": {},
   "outputs": [
    {
     "data": {
      "text/plain": [
       "726731.1995307367"
      ]
     },
     "execution_count": 55,
     "metadata": {},
     "output_type": "execute_result"
    }
   ],
   "source": [
    "def work(velocity, viscosity, radius):\n",
    "    v = velocity\n",
    "    n = viscosity\n",
    "    r = radius\n",
    "    x = 200 #units um\n",
    "    return 3*np.pi*n*r*v*x\n",
    "\n",
    "total_work = work(velo, visc, radii)\n",
    "total_work"
   ]
  },
  {
   "cell_type": "code",
   "execution_count": 56,
   "id": "54f7d934",
   "metadata": {},
   "outputs": [
    {
     "data": {
      "text/plain": [
       "13.0"
      ]
     },
     "execution_count": 56,
     "metadata": {},
     "output_type": "execute_result"
    }
   ],
   "source": [
    "def motors(work):\n",
    "    free_e = 57.5 * 1000 #* 6.0221409e+23\n",
    "    return np.round(work / free_e)\n",
    "\n",
    "motors(total_work)"
   ]
  },
  {
   "cell_type": "code",
   "execution_count": null,
   "id": "5bed133f",
   "metadata": {},
   "outputs": [],
   "source": []
  }
 ],
 "metadata": {
  "kernelspec": {
   "display_name": "Python 3 (ipykernel)",
   "language": "python",
   "name": "python3"
  },
  "language_info": {
   "codemirror_mode": {
    "name": "ipython",
    "version": 3
   },
   "file_extension": ".py",
   "mimetype": "text/x-python",
   "name": "python",
   "nbconvert_exporter": "python",
   "pygments_lexer": "ipython3",
   "version": "3.9.5"
  }
 },
 "nbformat": 4,
 "nbformat_minor": 5
}
